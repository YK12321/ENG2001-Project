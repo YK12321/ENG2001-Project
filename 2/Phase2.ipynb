{
  "cells": [
    {
      "cell_type": "markdown",
      "metadata": {},
      "source": [
        "\n",
        "# Project Helios — Part 2"
      ]
    },
    {
      "cell_type": "code",
      "execution_count": 4,
      "id": "d305c11e",
      "metadata": {},
      "outputs": [
        {
          "data": {
            "text/html": [
              "\n",
              "<div style=\"text-align: center; margin: 20px 0;\">\n",
              "    <div style=\"margin-bottom: 15px;\">\n",
              "        <a href=\"https://github.com/YK12321/ENG2001-Project/tree/main/2/Phase2.pdf\" \n",
              "           target=\"_blank\" \n",
              "           style=\"display: inline-block; \n",
              "                  background-color: #007acc; \n",
              "                  color: white; \n",
              "                  padding: 12px 24px; \n",
              "                  text-decoration: none; \n",
              "                  border-radius: 6px; \n",
              "                  font-family: Arial, sans-serif; \n",
              "                  font-size: 14px; \n",
              "                  font-weight: bold; \n",
              "                  box-shadow: 0 2px 4px rgba(0,0,0,0.2);\n",
              "                  transition: background-color 0.3s ease;\"\n",
              "           onmouseover=\"this.style.backgroundColor='#005a9e'\" \n",
              "           onmouseout=\"this.style.backgroundColor='#007acc'\">\n",
              "            📄 Get PDF Version Here\n",
              "            <br><small style=\"font-weight: normal; font-size: 11px;\">(graphs are non-interactive in the PDF)</small>\n",
              "        </a>\n",
              "    </div>\n",
              "\n",
              "    <div style=\"margin-bottom: 15px;\">\n",
              "        <a href=\"https://colab.research.google.com/github/YK12321/ENG2001-Project/blob/main/2/Phase2.ipynb\" \n",
              "           target=\"_blank\" \n",
              "           style=\"display: inline-block; \n",
              "                  background-color: #f9ab00; \n",
              "                  color: white; \n",
              "                  padding: 12px 24px; \n",
              "                  text-decoration: none; \n",
              "                  border-radius: 6px; \n",
              "                  font-family: Arial, sans-serif; \n",
              "                  font-size: 14px; \n",
              "                  font-weight: bold; \n",
              "                  box-shadow: 0 2px 4px rgba(0,0,0,0.2);\n",
              "                  transition: background-color 0.3s ease;\"\n",
              "           onmouseover=\"this.style.backgroundColor='#e09600'\" \n",
              "           onmouseout=\"this.style.backgroundColor='#f9ab00'\">\n",
              "            ⚡ View Interactive Graphs in Google Colab\n",
              "            <br><small style=\"font-weight: normal; font-size: 11px;\">(BEST for interactive graphs - click \"Run All\")</small>\n",
              "            <br><small style=\"font-weight: normal; font-size: 11px;\">(Unfortunately the interactive graphics do not render automatically, click the Run All button in Google Colab, and they should all render properly.)</small>\n",
              "        </a>\n",
              "    </div>\n",
              "\n",
              "    <div>\n",
              "        <a href=\"https://github.com/YK12321/ENG2001-Project/blob/main/2/Phase2.ipynb\" \n",
              "           target=\"_blank\" \n",
              "           style=\"display: inline-block; \n",
              "                  background-color: #28a745; \n",
              "                  color: white; \n",
              "                  padding: 12px 24px; \n",
              "                  text-decoration: none; \n",
              "                  border-radius: 6px; \n",
              "                  font-family: Arial, sans-serif; \n",
              "                  font-size: 14px; \n",
              "                  font-weight: bold; \n",
              "                  box-shadow: 0 2px 4px rgba(0,0,0,0.2);\n",
              "                  transition: background-color 0.3s ease;\"\n",
              "           onmouseover=\"this.style.backgroundColor='#218838'\" \n",
              "           onmouseout=\"this.style.backgroundColor='#28a745'\">\n",
              "            📋 View Source on GitHub\n",
              "            <br><small style=\"font-weight: normal; font-size: 11px;\">(static preview - download to run locally)</small>\n",
              "        </a>\n",
              "    </div>\n",
              "</div>\n",
              "\n",
              "<style>\n",
              "    .button-container {\n",
              "        text-align: center;\n",
              "        margin: 20px 0;\n",
              "    }\n",
              "</style>\n"
            ],
            "text/plain": [
              "<IPython.core.display.HTML object>"
            ]
          },
          "metadata": {},
          "output_type": "display_data"
        }
      ],
      "source": [
        "\n",
        "# %%\n",
        "import plotly.graph_objects as go\n",
        "from plotly.subplots import make_subplots\n",
        "from IPython.display import HTML, display\n",
        "\n",
        "# Create clickable buttons using HTML and CSS\n",
        "button_html = \"\"\"\n",
        "<div style=\"text-align: center; margin: 20px 0;\">\n",
        "    <div style=\"margin-bottom: 15px;\">\n",
        "        <a href=\"https://github.com/YK12321/ENG2001-Project/tree/main/2/Phase2.pdf\" \n",
        "           target=\"_blank\" \n",
        "           style=\"display: inline-block; \n",
        "                  background-color: #007acc; \n",
        "                  color: white; \n",
        "                  padding: 12px 24px; \n",
        "                  text-decoration: none; \n",
        "                  border-radius: 6px; \n",
        "                  font-family: Arial, sans-serif; \n",
        "                  font-size: 14px; \n",
        "                  font-weight: bold; \n",
        "                  box-shadow: 0 2px 4px rgba(0,0,0,0.2);\n",
        "                  transition: background-color 0.3s ease;\"\n",
        "           onmouseover=\"this.style.backgroundColor='#005a9e'\" \n",
        "           onmouseout=\"this.style.backgroundColor='#007acc'\">\n",
        "            📄 Get PDF Version Here\n",
        "            <br><small style=\"font-weight: normal; font-size: 11px;\">(graphs are non-interactive in the PDF)</small>\n",
        "        </a>\n",
        "    </div>\n",
        "    \n",
        "    <div style=\"margin-bottom: 15px;\">\n",
        "        <a href=\"https://colab.research.google.com/github/YK12321/ENG2001-Project/blob/main/2/Phase2.ipynb\" \n",
        "           target=\"_blank\" \n",
        "           style=\"display: inline-block; \n",
        "                  background-color: #f9ab00; \n",
        "                  color: white; \n",
        "                  padding: 12px 24px; \n",
        "                  text-decoration: none; \n",
        "                  border-radius: 6px; \n",
        "                  font-family: Arial, sans-serif; \n",
        "                  font-size: 14px; \n",
        "                  font-weight: bold; \n",
        "                  box-shadow: 0 2px 4px rgba(0,0,0,0.2);\n",
        "                  transition: background-color 0.3s ease;\"\n",
        "           onmouseover=\"this.style.backgroundColor='#e09600'\" \n",
        "           onmouseout=\"this.style.backgroundColor='#f9ab00'\">\n",
        "            ⚡ View Interactive Graphs in Google Colab\n",
        "            <br><small style=\"font-weight: normal; font-size: 11px;\">(BEST for interactive graphs - click \"Run All\")</small>\n",
        "            <br><small style=\"font-weight: normal; font-size: 11px;\">(Unfortunately the interactive graphics do not render automatically, click the Run All button in Google Colab, and they should all render properly.)</small>\n",
        "        </a>\n",
        "    </div>\n",
        "    \n",
        "    <div>\n",
        "        <a href=\"https://github.com/YK12321/ENG2001-Project/blob/main/2/Phase2.ipynb\" \n",
        "           target=\"_blank\" \n",
        "           style=\"display: inline-block; \n",
        "                  background-color: #28a745; \n",
        "                  color: white; \n",
        "                  padding: 12px 24px; \n",
        "                  text-decoration: none; \n",
        "                  border-radius: 6px; \n",
        "                  font-family: Arial, sans-serif; \n",
        "                  font-size: 14px; \n",
        "                  font-weight: bold; \n",
        "                  box-shadow: 0 2px 4px rgba(0,0,0,0.2);\n",
        "                  transition: background-color 0.3s ease;\"\n",
        "           onmouseover=\"this.style.backgroundColor='#218838'\" \n",
        "           onmouseout=\"this.style.backgroundColor='#28a745'\">\n",
        "            📋 View Source on GitHub\n",
        "            <br><small style=\"font-weight: normal; font-size: 11px;\">(static preview - download to run locally)</small>\n",
        "        </a>\n",
        "    </div>\n",
        "</div>\n",
        "\n",
        "<style>\n",
        "    .button-container {\n",
        "        text-align: center;\n",
        "        margin: 20px 0;\n",
        "    }\n",
        "</style>\n",
        "\"\"\"\n",
        "\n",
        "# Display the buttons\n",
        "display(HTML(button_html))\n"
      ]
    },
    {
      "cell_type": "markdown",
      "metadata": {},
      "source": [
        "\n",
        "## 1) Project Requirements Document (PRD)\n",
        "\n",
        "### 1.1 Scope Summary\n",
        "- Mercury‑anchored Dyson‑swarm industrial base using seed robotic units that land, self‑replicate via ISRU, and scale up to fabricate and launch reflector/collector panels into heliocentric orbits.\n",
        "- Wireless power transmission: a small fraction is delivered to Earth (to meet Earth's needs); most harvested power is reinvested in space‑infrastructure growth.\n",
        "- Architecture scales toward near‑full solar angular coverage over time.\n",
        "\n",
        "### 1.2 Functional Requirements (FR)\n",
        "**Architecture & Autonomy**\n",
        "- **FR‑A1** – Deploy seed multifunctional robots to Mercury and autonomously initialize ISRU and replication.\n",
        "- **FR‑A2** – Self‑replicate structural/mechanical components locally; import complex electronics during Phases 1–2 (partial replication strategy).\n",
        "- **FR‑A3** – Fabricate, assemble, and launch reflector/collector modules into designated solar orbits without continuous ground control.\n",
        "- **FR‑A4** – Integrate wireless power transmission (laser/microwave) and Earth‑side rectenna interfaces to deliver a small fraction of harvested energy to Earth.\n",
        "- **FR‑A5** – Provide decentralized, fault‑tolerant control (payload‑centric autonomy for assembly).\n",
        "\n",
        "**Resource & Manufacturing**\n",
        "- **FR‑R1** – Map and extract Mercury metallic/silicate resources suitable for structural components and panel substrates.\n",
        "- **FR‑R2** – Operate electromagnetic mass drivers (or equivalent) for orbit insertion of panels.\n",
        "\n",
        "**Safety & Governance**\n",
        "- **FR‑S1** – Replication must include hard limits, external kill‑switch pathways, and environmental throttles.\n",
        "- **FR‑S2** – Comply with international frameworks (e.g., Outer Space Treaty/COSPAR) and project ethics.\n",
        "\n",
        "### 1.3 Technical Requirements (TR)\n",
        "**Autonomy & Control**\n",
        "- **TR‑AC1** – Payload‑centric autonomy libraries for precision assembly (sub‑mm fit‑up at assembly cells).\n",
        "- **TR‑AC2** – Mesh networking with degradation‑tolerant protocols and local fallback modes.\n",
        "\n",
        "**ISRU & Manufacturing**\n",
        "- **TR‑IM1** – ISRU lines for metal extraction (carbothermal/electrolysis) and additive manufacturing of frames/panels.\n",
        "- **TR‑IM2** – Foundry cells hardened for Mercury thermal/radiation extremes and dust.\n",
        "\n",
        "**Launch & Orbital**\n",
        "- **TR‑LO1** – Mass drivers accelerate panel stacks to ≥4.3 km/s (Mercury escape ~4.25 km/s) for heliocentric transfer.\n",
        "- **TR‑LO2** – Panels include station‑keeping and attitude control for formation maintenance.\n",
        "\n",
        "**Power & Beaming**\n",
        "- **TR‑PB1** – Collector modules use high‑efficiency PV or reflector+thermal PV sized for inner‑solar flux.\n",
        "- **TR‑PB2** – Space→Earth beaming chain achieves net ≥40% transfer efficiency at rectenna boundary by Phase‑4 pilots.\n",
        "\n",
        "**Safety & Governance**\n",
        "- **TR‑SG1** – Replication caps, resource quotas, mission‑lifetime deactivation for units/factories.\n",
        "- **TR‑SG2** – Audit logs of autonomous actions; update controls with formal‑verification gates.\n",
        "\n",
        "### 1.4 Performance Requirements (PR)\n",
        "- **PR‑1** – By 2028‑03: closed‑loop replication (structural components) ≥1 unit/week (analog); by 2031‑09 in‑situ replication ≥1 unit/day.\n",
        "- **PR‑2** – Per factory node: ≥10 t/day processed regolith by 2031; scalable to ≥100 t/day by 2037.\n",
        "- **PR‑3** – ≥10 MW(e)/day panel output per mature fabrication cluster by 2037.\n",
        "- **PR‑4** – Mass‑driver cadence ≥50 panel‑stack launches/day by Phase 3.\n",
        "- **PR‑5** – ≥20 TW net delivered to Earth by 2045‑09; remainder used for space infrastructure.\n",
        "- **PR‑6** – Validate formation mechanics and manufacturing scale‑up toward near‑full solar coverage.\n",
        "- **PR‑7** – Tolerate ≥15% unit attrition/year without net capacity loss via redundancy + replication.\n",
        "\n",
        "### 1.5 V&V Strategy\n",
        "- **V‑1** Ground demos (assembly accuracy, ISRU batches, replication dry‑run).\n",
        "- **V‑2** Mercury pathfinder: mining→parts→assembly→limited replication.\n",
        "- **V‑3** Panel pilot + mass‑driver demo to heliocentric orbit.\n",
        "- **V‑4** Power‑beaming pilot to Earth rectenna.\n"
      ]
    },
    {
      "cell_type": "markdown",
      "metadata": {},
      "source": [
        "\n",
        "## 2) Work Breakdown Structure (WBS)\n",
        "\n",
        "The WBS below structures scope into major deliverable areas and work packages used for planning and scheduling. The visuals provide multiple ways to understand scope distribution.\n"
      ]
    },
    {
      "cell_type": "code",
      "execution_count": 1,
      "metadata": {},
      "outputs": [
        {
          "data": {
            "application/vnd.plotly.v1+json": {
              "config": {
                "plotlyServerURL": "https://plot.ly"
              },
              "data": [
                {
                  "branchvalues": "total",
                  "customdata": [
                    "Project",
                    "Phase",
                    "Phase",
                    "Phase",
                    "Phase",
                    "Phase",
                    "Work Package",
                    "Work Package",
                    "Work Package",
                    "Work Package",
                    "Work Package",
                    "Work Package",
                    "Work Package",
                    "Work Package",
                    "Work Package",
                    "Activity",
                    "Activity",
                    "Activity",
                    "Activity",
                    "Activity",
                    "Activity",
                    "Activity",
                    "Activity",
                    "Activity",
                    "Activity",
                    "Activity",
                    "Activity",
                    "Activity",
                    "Activity",
                    "Activity",
                    "Activity",
                    "Activity",
                    "Activity",
                    "Activity",
                    "Activity",
                    "Activity",
                    "Activity",
                    "Activity",
                    "Activity",
                    "Activity",
                    "Activity",
                    "Activity",
                    "Activity",
                    "Activity",
                    "Activity"
                  ],
                  "hovertemplate": "<b>%{label}</b><br>Level: %{customdata}<br>Effort: %{value}%<extra></extra>",
                  "ids": [
                    "Project Helios",
                    "Phase 1: Seed Deployment",
                    "Phase 2: Bootstrap Replication",
                    "Phase 3: Infrastructure Expansion",
                    "Phase 4: Dyson Swarm Assembly",
                    "Phase 5: Operations",
                    "1.0 Program Mgmt & SE",
                    "2.0 Seed Units R&D",
                    "8.0 Verification & Pilots",
                    "3.0 ISRU & Manufacturing",
                    "4.0 Replication & Assembly Ops",
                    "5.0 Launch & Orbital Integration",
                    "6.0 Collector/Reflector Panels",
                    "7.0 Power Beaming & Earth Interface",
                    "9.0 Deployment & Scale-Up",
                    "1.1 Governance/Stakeholders",
                    "1.2 Systems Eng & CM",
                    "1.3 Safety & Replication Governance",
                    "2.1 Mechatronics & Power",
                    "2.2 Autonomy Stack",
                    "2.3 Partial Replication Design",
                    "2.4 Environmental Testing",
                    "3.1 Resource Mapping",
                    "3.2 Mining/Extraction",
                    "3.3 Processing Lines",
                    "3.4 Additive Mfg Cells",
                    "3.5 QA & Metrology",
                    "4.1 Assembly Cells",
                    "4.2 Replication Controls",
                    "4.3 Spares & Maintenance",
                    "5.1 Mass Driver",
                    "5.2 Panel Packaging & Launch",
                    "5.3 Orbital Insertion & Formation",
                    "6.1 Bus/Thermal/Coatings",
                    "6.2 PV/Reflector Integration",
                    "6.3 Health/Telemetry",
                    "7.1 Space Transmitters",
                    "7.2 Rectenna & Grid",
                    "7.3 Regulatory & Safety",
                    "8.1 Ground Demos",
                    "8.2 Mercury Pathfinder",
                    "8.3 Panel & Beaming Pilots",
                    "9.1 Fab Ramp",
                    "9.2 Multi-Driver Network",
                    "9.3 Ops/Maint/Optimization"
                  ],
                  "labels": [
                    "Project Helios",
                    "Phase 1: Seed Deployment",
                    "Phase 2: Bootstrap Replication",
                    "Phase 3: Infrastructure Expansion",
                    "Phase 4: Dyson Swarm Assembly",
                    "Phase 5: Operations",
                    "1.0 Program Mgmt & SE",
                    "2.0 Seed Units R&D",
                    "8.0 Verification & Pilots",
                    "3.0 ISRU & Manufacturing",
                    "4.0 Replication & Assembly Ops",
                    "5.0 Launch & Orbital Integration",
                    "6.0 Collector/Reflector Panels",
                    "7.0 Power Beaming & Earth Interface",
                    "9.0 Deployment & Scale-Up",
                    "1.1 Governance/Stakeholders",
                    "1.2 Systems Eng & CM",
                    "1.3 Safety & Replication Governance",
                    "2.1 Mechatronics & Power",
                    "2.2 Autonomy Stack",
                    "2.3 Partial Replication Design",
                    "2.4 Environmental Testing",
                    "3.1 Resource Mapping",
                    "3.2 Mining/Extraction",
                    "3.3 Processing Lines",
                    "3.4 Additive Mfg Cells",
                    "3.5 QA & Metrology",
                    "4.1 Assembly Cells",
                    "4.2 Replication Controls",
                    "4.3 Spares & Maintenance",
                    "5.1 Mass Driver",
                    "5.2 Panel Packaging & Launch",
                    "5.3 Orbital Insertion & Formation",
                    "6.1 Bus/Thermal/Coatings",
                    "6.2 PV/Reflector Integration",
                    "6.3 Health/Telemetry",
                    "7.1 Space Transmitters",
                    "7.2 Rectenna & Grid",
                    "7.3 Regulatory & Safety",
                    "8.1 Ground Demos",
                    "8.2 Mercury Pathfinder",
                    "8.3 Panel & Beaming Pilots",
                    "9.1 Fab Ramp",
                    "9.2 Multi-Driver Network",
                    "9.3 Ops/Maint/Optimization"
                  ],
                  "maxdepth": 4,
                  "parents": [
                    "",
                    "Project Helios",
                    "Project Helios",
                    "Project Helios",
                    "Project Helios",
                    "Project Helios",
                    "Phase 1: Seed Deployment",
                    "Phase 1: Seed Deployment",
                    "Phase 1: Seed Deployment",
                    "Phase 2: Bootstrap Replication",
                    "Phase 2: Bootstrap Replication",
                    "Phase 3: Infrastructure Expansion",
                    "Phase 3: Infrastructure Expansion",
                    "Phase 3: Infrastructure Expansion",
                    "Phase 4: Dyson Swarm Assembly",
                    "1.0 Program Mgmt & SE",
                    "1.0 Program Mgmt & SE",
                    "1.0 Program Mgmt & SE",
                    "2.0 Seed Units R&D",
                    "2.0 Seed Units R&D",
                    "2.0 Seed Units R&D",
                    "2.0 Seed Units R&D",
                    "3.0 ISRU & Manufacturing",
                    "3.0 ISRU & Manufacturing",
                    "3.0 ISRU & Manufacturing",
                    "3.0 ISRU & Manufacturing",
                    "3.0 ISRU & Manufacturing",
                    "4.0 Replication & Assembly Ops",
                    "4.0 Replication & Assembly Ops",
                    "4.0 Replication & Assembly Ops",
                    "5.0 Launch & Orbital Integration",
                    "5.0 Launch & Orbital Integration",
                    "5.0 Launch & Orbital Integration",
                    "6.0 Collector/Reflector Panels",
                    "6.0 Collector/Reflector Panels",
                    "6.0 Collector/Reflector Panels",
                    "7.0 Power Beaming & Earth Interface",
                    "7.0 Power Beaming & Earth Interface",
                    "7.0 Power Beaming & Earth Interface",
                    "8.0 Verification & Pilots",
                    "8.0 Verification & Pilots",
                    "8.0 Verification & Pilots",
                    "9.0 Deployment & Scale-Up",
                    "9.0 Deployment & Scale-Up",
                    "9.0 Deployment & Scale-Up"
                  ],
                  "textinfo": "label+value",
                  "type": "treemap",
                  "values": {
                    "bdata": "ZBkZGQ8KCAwFDwoICgcPAwMCBAQCAgMFBAIBBAMDBAICAwQDAwICAgIBBQUF",
                    "dtype": "i1"
                  }
                }
              ],
              "layout": {
                "font": {
                  "size": 10
                },
                "height": 600,
                "margin": {
                  "b": 0,
                  "l": 0,
                  "r": 0,
                  "t": 80
                },
                "template": {
                  "data": {
                    "bar": [
                      {
                        "error_x": {
                          "color": "#2a3f5f"
                        },
                        "error_y": {
                          "color": "#2a3f5f"
                        },
                        "marker": {
                          "line": {
                            "color": "#E5ECF6",
                            "width": 0.5
                          },
                          "pattern": {
                            "fillmode": "overlay",
                            "size": 10,
                            "solidity": 0.2
                          }
                        },
                        "type": "bar"
                      }
                    ],
                    "barpolar": [
                      {
                        "marker": {
                          "line": {
                            "color": "#E5ECF6",
                            "width": 0.5
                          },
                          "pattern": {
                            "fillmode": "overlay",
                            "size": 10,
                            "solidity": 0.2
                          }
                        },
                        "type": "barpolar"
                      }
                    ],
                    "carpet": [
                      {
                        "aaxis": {
                          "endlinecolor": "#2a3f5f",
                          "gridcolor": "white",
                          "linecolor": "white",
                          "minorgridcolor": "white",
                          "startlinecolor": "#2a3f5f"
                        },
                        "baxis": {
                          "endlinecolor": "#2a3f5f",
                          "gridcolor": "white",
                          "linecolor": "white",
                          "minorgridcolor": "white",
                          "startlinecolor": "#2a3f5f"
                        },
                        "type": "carpet"
                      }
                    ],
                    "choropleth": [
                      {
                        "colorbar": {
                          "outlinewidth": 0,
                          "ticks": ""
                        },
                        "type": "choropleth"
                      }
                    ],
                    "contour": [
                      {
                        "colorbar": {
                          "outlinewidth": 0,
                          "ticks": ""
                        },
                        "colorscale": [
                          [
                            0,
                            "#0d0887"
                          ],
                          [
                            0.1111111111111111,
                            "#46039f"
                          ],
                          [
                            0.2222222222222222,
                            "#7201a8"
                          ],
                          [
                            0.3333333333333333,
                            "#9c179e"
                          ],
                          [
                            0.4444444444444444,
                            "#bd3786"
                          ],
                          [
                            0.5555555555555556,
                            "#d8576b"
                          ],
                          [
                            0.6666666666666666,
                            "#ed7953"
                          ],
                          [
                            0.7777777777777778,
                            "#fb9f3a"
                          ],
                          [
                            0.8888888888888888,
                            "#fdca26"
                          ],
                          [
                            1,
                            "#f0f921"
                          ]
                        ],
                        "type": "contour"
                      }
                    ],
                    "contourcarpet": [
                      {
                        "colorbar": {
                          "outlinewidth": 0,
                          "ticks": ""
                        },
                        "type": "contourcarpet"
                      }
                    ],
                    "heatmap": [
                      {
                        "colorbar": {
                          "outlinewidth": 0,
                          "ticks": ""
                        },
                        "colorscale": [
                          [
                            0,
                            "#0d0887"
                          ],
                          [
                            0.1111111111111111,
                            "#46039f"
                          ],
                          [
                            0.2222222222222222,
                            "#7201a8"
                          ],
                          [
                            0.3333333333333333,
                            "#9c179e"
                          ],
                          [
                            0.4444444444444444,
                            "#bd3786"
                          ],
                          [
                            0.5555555555555556,
                            "#d8576b"
                          ],
                          [
                            0.6666666666666666,
                            "#ed7953"
                          ],
                          [
                            0.7777777777777778,
                            "#fb9f3a"
                          ],
                          [
                            0.8888888888888888,
                            "#fdca26"
                          ],
                          [
                            1,
                            "#f0f921"
                          ]
                        ],
                        "type": "heatmap"
                      }
                    ],
                    "histogram": [
                      {
                        "marker": {
                          "pattern": {
                            "fillmode": "overlay",
                            "size": 10,
                            "solidity": 0.2
                          }
                        },
                        "type": "histogram"
                      }
                    ],
                    "histogram2d": [
                      {
                        "colorbar": {
                          "outlinewidth": 0,
                          "ticks": ""
                        },
                        "colorscale": [
                          [
                            0,
                            "#0d0887"
                          ],
                          [
                            0.1111111111111111,
                            "#46039f"
                          ],
                          [
                            0.2222222222222222,
                            "#7201a8"
                          ],
                          [
                            0.3333333333333333,
                            "#9c179e"
                          ],
                          [
                            0.4444444444444444,
                            "#bd3786"
                          ],
                          [
                            0.5555555555555556,
                            "#d8576b"
                          ],
                          [
                            0.6666666666666666,
                            "#ed7953"
                          ],
                          [
                            0.7777777777777778,
                            "#fb9f3a"
                          ],
                          [
                            0.8888888888888888,
                            "#fdca26"
                          ],
                          [
                            1,
                            "#f0f921"
                          ]
                        ],
                        "type": "histogram2d"
                      }
                    ],
                    "histogram2dcontour": [
                      {
                        "colorbar": {
                          "outlinewidth": 0,
                          "ticks": ""
                        },
                        "colorscale": [
                          [
                            0,
                            "#0d0887"
                          ],
                          [
                            0.1111111111111111,
                            "#46039f"
                          ],
                          [
                            0.2222222222222222,
                            "#7201a8"
                          ],
                          [
                            0.3333333333333333,
                            "#9c179e"
                          ],
                          [
                            0.4444444444444444,
                            "#bd3786"
                          ],
                          [
                            0.5555555555555556,
                            "#d8576b"
                          ],
                          [
                            0.6666666666666666,
                            "#ed7953"
                          ],
                          [
                            0.7777777777777778,
                            "#fb9f3a"
                          ],
                          [
                            0.8888888888888888,
                            "#fdca26"
                          ],
                          [
                            1,
                            "#f0f921"
                          ]
                        ],
                        "type": "histogram2dcontour"
                      }
                    ],
                    "mesh3d": [
                      {
                        "colorbar": {
                          "outlinewidth": 0,
                          "ticks": ""
                        },
                        "type": "mesh3d"
                      }
                    ],
                    "parcoords": [
                      {
                        "line": {
                          "colorbar": {
                            "outlinewidth": 0,
                            "ticks": ""
                          }
                        },
                        "type": "parcoords"
                      }
                    ],
                    "pie": [
                      {
                        "automargin": true,
                        "type": "pie"
                      }
                    ],
                    "scatter": [
                      {
                        "fillpattern": {
                          "fillmode": "overlay",
                          "size": 10,
                          "solidity": 0.2
                        },
                        "type": "scatter"
                      }
                    ],
                    "scatter3d": [
                      {
                        "line": {
                          "colorbar": {
                            "outlinewidth": 0,
                            "ticks": ""
                          }
                        },
                        "marker": {
                          "colorbar": {
                            "outlinewidth": 0,
                            "ticks": ""
                          }
                        },
                        "type": "scatter3d"
                      }
                    ],
                    "scattercarpet": [
                      {
                        "marker": {
                          "colorbar": {
                            "outlinewidth": 0,
                            "ticks": ""
                          }
                        },
                        "type": "scattercarpet"
                      }
                    ],
                    "scattergeo": [
                      {
                        "marker": {
                          "colorbar": {
                            "outlinewidth": 0,
                            "ticks": ""
                          }
                        },
                        "type": "scattergeo"
                      }
                    ],
                    "scattergl": [
                      {
                        "marker": {
                          "colorbar": {
                            "outlinewidth": 0,
                            "ticks": ""
                          }
                        },
                        "type": "scattergl"
                      }
                    ],
                    "scattermap": [
                      {
                        "marker": {
                          "colorbar": {
                            "outlinewidth": 0,
                            "ticks": ""
                          }
                        },
                        "type": "scattermap"
                      }
                    ],
                    "scattermapbox": [
                      {
                        "marker": {
                          "colorbar": {
                            "outlinewidth": 0,
                            "ticks": ""
                          }
                        },
                        "type": "scattermapbox"
                      }
                    ],
                    "scatterpolar": [
                      {
                        "marker": {
                          "colorbar": {
                            "outlinewidth": 0,
                            "ticks": ""
                          }
                        },
                        "type": "scatterpolar"
                      }
                    ],
                    "scatterpolargl": [
                      {
                        "marker": {
                          "colorbar": {
                            "outlinewidth": 0,
                            "ticks": ""
                          }
                        },
                        "type": "scatterpolargl"
                      }
                    ],
                    "scatterternary": [
                      {
                        "marker": {
                          "colorbar": {
                            "outlinewidth": 0,
                            "ticks": ""
                          }
                        },
                        "type": "scatterternary"
                      }
                    ],
                    "surface": [
                      {
                        "colorbar": {
                          "outlinewidth": 0,
                          "ticks": ""
                        },
                        "colorscale": [
                          [
                            0,
                            "#0d0887"
                          ],
                          [
                            0.1111111111111111,
                            "#46039f"
                          ],
                          [
                            0.2222222222222222,
                            "#7201a8"
                          ],
                          [
                            0.3333333333333333,
                            "#9c179e"
                          ],
                          [
                            0.4444444444444444,
                            "#bd3786"
                          ],
                          [
                            0.5555555555555556,
                            "#d8576b"
                          ],
                          [
                            0.6666666666666666,
                            "#ed7953"
                          ],
                          [
                            0.7777777777777778,
                            "#fb9f3a"
                          ],
                          [
                            0.8888888888888888,
                            "#fdca26"
                          ],
                          [
                            1,
                            "#f0f921"
                          ]
                        ],
                        "type": "surface"
                      }
                    ],
                    "table": [
                      {
                        "cells": {
                          "fill": {
                            "color": "#EBF0F8"
                          },
                          "line": {
                            "color": "white"
                          }
                        },
                        "header": {
                          "fill": {
                            "color": "#C8D4E3"
                          },
                          "line": {
                            "color": "white"
                          }
                        },
                        "type": "table"
                      }
                    ]
                  },
                  "layout": {
                    "annotationdefaults": {
                      "arrowcolor": "#2a3f5f",
                      "arrowhead": 0,
                      "arrowwidth": 1
                    },
                    "autotypenumbers": "strict",
                    "coloraxis": {
                      "colorbar": {
                        "outlinewidth": 0,
                        "ticks": ""
                      }
                    },
                    "colorscale": {
                      "diverging": [
                        [
                          0,
                          "#8e0152"
                        ],
                        [
                          0.1,
                          "#c51b7d"
                        ],
                        [
                          0.2,
                          "#de77ae"
                        ],
                        [
                          0.3,
                          "#f1b6da"
                        ],
                        [
                          0.4,
                          "#fde0ef"
                        ],
                        [
                          0.5,
                          "#f7f7f7"
                        ],
                        [
                          0.6,
                          "#e6f5d0"
                        ],
                        [
                          0.7,
                          "#b8e186"
                        ],
                        [
                          0.8,
                          "#7fbc41"
                        ],
                        [
                          0.9,
                          "#4d9221"
                        ],
                        [
                          1,
                          "#276419"
                        ]
                      ],
                      "sequential": [
                        [
                          0,
                          "#0d0887"
                        ],
                        [
                          0.1111111111111111,
                          "#46039f"
                        ],
                        [
                          0.2222222222222222,
                          "#7201a8"
                        ],
                        [
                          0.3333333333333333,
                          "#9c179e"
                        ],
                        [
                          0.4444444444444444,
                          "#bd3786"
                        ],
                        [
                          0.5555555555555556,
                          "#d8576b"
                        ],
                        [
                          0.6666666666666666,
                          "#ed7953"
                        ],
                        [
                          0.7777777777777778,
                          "#fb9f3a"
                        ],
                        [
                          0.8888888888888888,
                          "#fdca26"
                        ],
                        [
                          1,
                          "#f0f921"
                        ]
                      ],
                      "sequentialminus": [
                        [
                          0,
                          "#0d0887"
                        ],
                        [
                          0.1111111111111111,
                          "#46039f"
                        ],
                        [
                          0.2222222222222222,
                          "#7201a8"
                        ],
                        [
                          0.3333333333333333,
                          "#9c179e"
                        ],
                        [
                          0.4444444444444444,
                          "#bd3786"
                        ],
                        [
                          0.5555555555555556,
                          "#d8576b"
                        ],
                        [
                          0.6666666666666666,
                          "#ed7953"
                        ],
                        [
                          0.7777777777777778,
                          "#fb9f3a"
                        ],
                        [
                          0.8888888888888888,
                          "#fdca26"
                        ],
                        [
                          1,
                          "#f0f921"
                        ]
                      ]
                    },
                    "colorway": [
                      "#636efa",
                      "#EF553B",
                      "#00cc96",
                      "#ab63fa",
                      "#FFA15A",
                      "#19d3f3",
                      "#FF6692",
                      "#B6E880",
                      "#FF97FF",
                      "#FECB52"
                    ],
                    "font": {
                      "color": "#2a3f5f"
                    },
                    "geo": {
                      "bgcolor": "white",
                      "lakecolor": "white",
                      "landcolor": "#E5ECF6",
                      "showlakes": true,
                      "showland": true,
                      "subunitcolor": "white"
                    },
                    "hoverlabel": {
                      "align": "left"
                    },
                    "hovermode": "closest",
                    "mapbox": {
                      "style": "light"
                    },
                    "paper_bgcolor": "white",
                    "plot_bgcolor": "#E5ECF6",
                    "polar": {
                      "angularaxis": {
                        "gridcolor": "white",
                        "linecolor": "white",
                        "ticks": ""
                      },
                      "bgcolor": "#E5ECF6",
                      "radialaxis": {
                        "gridcolor": "white",
                        "linecolor": "white",
                        "ticks": ""
                      }
                    },
                    "scene": {
                      "xaxis": {
                        "backgroundcolor": "#E5ECF6",
                        "gridcolor": "white",
                        "gridwidth": 2,
                        "linecolor": "white",
                        "showbackground": true,
                        "ticks": "",
                        "zerolinecolor": "white"
                      },
                      "yaxis": {
                        "backgroundcolor": "#E5ECF6",
                        "gridcolor": "white",
                        "gridwidth": 2,
                        "linecolor": "white",
                        "showbackground": true,
                        "ticks": "",
                        "zerolinecolor": "white"
                      },
                      "zaxis": {
                        "backgroundcolor": "#E5ECF6",
                        "gridcolor": "white",
                        "gridwidth": 2,
                        "linecolor": "white",
                        "showbackground": true,
                        "ticks": "",
                        "zerolinecolor": "white"
                      }
                    },
                    "shapedefaults": {
                      "line": {
                        "color": "#2a3f5f"
                      }
                    },
                    "ternary": {
                      "aaxis": {
                        "gridcolor": "white",
                        "linecolor": "white",
                        "ticks": ""
                      },
                      "baxis": {
                        "gridcolor": "white",
                        "linecolor": "white",
                        "ticks": ""
                      },
                      "bgcolor": "#E5ECF6",
                      "caxis": {
                        "gridcolor": "white",
                        "linecolor": "white",
                        "ticks": ""
                      }
                    },
                    "title": {
                      "x": 0.05
                    },
                    "xaxis": {
                      "automargin": true,
                      "gridcolor": "white",
                      "linecolor": "white",
                      "ticks": "",
                      "title": {
                        "standoff": 15
                      },
                      "zerolinecolor": "white",
                      "zerolinewidth": 2
                    },
                    "yaxis": {
                      "automargin": true,
                      "gridcolor": "white",
                      "linecolor": "white",
                      "ticks": "",
                      "title": {
                        "standoff": 15
                      },
                      "zerolinecolor": "white",
                      "zerolinewidth": 2
                    }
                  }
                },
                "title": {
                  "text": "WBS Hierarchical Tree Structure<br><sub>Project → Phases → Work Packages → Activities</sub>"
                }
              }
            }
          },
          "metadata": {},
          "output_type": "display_data"
        },
        {
          "data": {
            "application/vnd.plotly.v1+json": {
              "config": {
                "plotlyServerURL": "https://plot.ly"
              },
              "data": [
                {
                  "branchvalues": "total",
                  "customdata": [
                    "Project",
                    "Phase",
                    "Phase",
                    "Phase",
                    "Phase",
                    "Phase",
                    "Work Package",
                    "Work Package",
                    "Work Package",
                    "Work Package",
                    "Work Package",
                    "Work Package",
                    "Work Package",
                    "Work Package",
                    "Work Package",
                    "Activity",
                    "Activity",
                    "Activity",
                    "Activity",
                    "Activity",
                    "Activity",
                    "Activity",
                    "Activity",
                    "Activity",
                    "Activity",
                    "Activity",
                    "Activity",
                    "Activity",
                    "Activity",
                    "Activity",
                    "Activity",
                    "Activity",
                    "Activity",
                    "Activity",
                    "Activity",
                    "Activity",
                    "Activity",
                    "Activity",
                    "Activity",
                    "Activity",
                    "Activity",
                    "Activity",
                    "Activity",
                    "Activity",
                    "Activity"
                  ],
                  "hovertemplate": "<b>%{label}</b><br>Level: %{customdata}<br>Effort: %{value}%<extra></extra>",
                  "ids": [
                    "Project Helios",
                    "Phase 1: Seed Deployment",
                    "Phase 2: Bootstrap Replication",
                    "Phase 3: Infrastructure Expansion",
                    "Phase 4: Dyson Swarm Assembly",
                    "Phase 5: Operations",
                    "1.0 Program Mgmt & SE",
                    "2.0 Seed Units R&D",
                    "8.0 Verification & Pilots",
                    "3.0 ISRU & Manufacturing",
                    "4.0 Replication & Assembly Ops",
                    "5.0 Launch & Orbital Integration",
                    "6.0 Collector/Reflector Panels",
                    "7.0 Power Beaming & Earth Interface",
                    "9.0 Deployment & Scale-Up",
                    "1.1 Governance/Stakeholders",
                    "1.2 Systems Eng & CM",
                    "1.3 Safety & Replication Governance",
                    "2.1 Mechatronics & Power",
                    "2.2 Autonomy Stack",
                    "2.3 Partial Replication Design",
                    "2.4 Environmental Testing",
                    "3.1 Resource Mapping",
                    "3.2 Mining/Extraction",
                    "3.3 Processing Lines",
                    "3.4 Additive Mfg Cells",
                    "3.5 QA & Metrology",
                    "4.1 Assembly Cells",
                    "4.2 Replication Controls",
                    "4.3 Spares & Maintenance",
                    "5.1 Mass Driver",
                    "5.2 Panel Packaging & Launch",
                    "5.3 Orbital Insertion & Formation",
                    "6.1 Bus/Thermal/Coatings",
                    "6.2 PV/Reflector Integration",
                    "6.3 Health/Telemetry",
                    "7.1 Space Transmitters",
                    "7.2 Rectenna & Grid",
                    "7.3 Regulatory & Safety",
                    "8.1 Ground Demos",
                    "8.2 Mercury Pathfinder",
                    "8.3 Panel & Beaming Pilots",
                    "9.1 Fab Ramp",
                    "9.2 Multi-Driver Network",
                    "9.3 Ops/Maint/Optimization"
                  ],
                  "labels": [
                    "Project Helios",
                    "Phase 1: Seed Deployment",
                    "Phase 2: Bootstrap Replication",
                    "Phase 3: Infrastructure Expansion",
                    "Phase 4: Dyson Swarm Assembly",
                    "Phase 5: Operations",
                    "1.0 Program Mgmt & SE",
                    "2.0 Seed Units R&D",
                    "8.0 Verification & Pilots",
                    "3.0 ISRU & Manufacturing",
                    "4.0 Replication & Assembly Ops",
                    "5.0 Launch & Orbital Integration",
                    "6.0 Collector/Reflector Panels",
                    "7.0 Power Beaming & Earth Interface",
                    "9.0 Deployment & Scale-Up",
                    "1.1 Governance/Stakeholders",
                    "1.2 Systems Eng & CM",
                    "1.3 Safety & Replication Governance",
                    "2.1 Mechatronics & Power",
                    "2.2 Autonomy Stack",
                    "2.3 Partial Replication Design",
                    "2.4 Environmental Testing",
                    "3.1 Resource Mapping",
                    "3.2 Mining/Extraction",
                    "3.3 Processing Lines",
                    "3.4 Additive Mfg Cells",
                    "3.5 QA & Metrology",
                    "4.1 Assembly Cells",
                    "4.2 Replication Controls",
                    "4.3 Spares & Maintenance",
                    "5.1 Mass Driver",
                    "5.2 Panel Packaging & Launch",
                    "5.3 Orbital Insertion & Formation",
                    "6.1 Bus/Thermal/Coatings",
                    "6.2 PV/Reflector Integration",
                    "6.3 Health/Telemetry",
                    "7.1 Space Transmitters",
                    "7.2 Rectenna & Grid",
                    "7.3 Regulatory & Safety",
                    "8.1 Ground Demos",
                    "8.2 Mercury Pathfinder",
                    "8.3 Panel & Beaming Pilots",
                    "9.1 Fab Ramp",
                    "9.2 Multi-Driver Network",
                    "9.3 Ops/Maint/Optimization"
                  ],
                  "maxdepth": 4,
                  "parents": [
                    "",
                    "Project Helios",
                    "Project Helios",
                    "Project Helios",
                    "Project Helios",
                    "Project Helios",
                    "Phase 1: Seed Deployment",
                    "Phase 1: Seed Deployment",
                    "Phase 1: Seed Deployment",
                    "Phase 2: Bootstrap Replication",
                    "Phase 2: Bootstrap Replication",
                    "Phase 3: Infrastructure Expansion",
                    "Phase 3: Infrastructure Expansion",
                    "Phase 3: Infrastructure Expansion",
                    "Phase 4: Dyson Swarm Assembly",
                    "1.0 Program Mgmt & SE",
                    "1.0 Program Mgmt & SE",
                    "1.0 Program Mgmt & SE",
                    "2.0 Seed Units R&D",
                    "2.0 Seed Units R&D",
                    "2.0 Seed Units R&D",
                    "2.0 Seed Units R&D",
                    "3.0 ISRU & Manufacturing",
                    "3.0 ISRU & Manufacturing",
                    "3.0 ISRU & Manufacturing",
                    "3.0 ISRU & Manufacturing",
                    "3.0 ISRU & Manufacturing",
                    "4.0 Replication & Assembly Ops",
                    "4.0 Replication & Assembly Ops",
                    "4.0 Replication & Assembly Ops",
                    "5.0 Launch & Orbital Integration",
                    "5.0 Launch & Orbital Integration",
                    "5.0 Launch & Orbital Integration",
                    "6.0 Collector/Reflector Panels",
                    "6.0 Collector/Reflector Panels",
                    "6.0 Collector/Reflector Panels",
                    "7.0 Power Beaming & Earth Interface",
                    "7.0 Power Beaming & Earth Interface",
                    "7.0 Power Beaming & Earth Interface",
                    "8.0 Verification & Pilots",
                    "8.0 Verification & Pilots",
                    "8.0 Verification & Pilots",
                    "9.0 Deployment & Scale-Up",
                    "9.0 Deployment & Scale-Up",
                    "9.0 Deployment & Scale-Up"
                  ],
                  "type": "sunburst",
                  "values": {
                    "bdata": "ZBkZGQ8KCAwFDwoICgcPAwMCBAQCAgMFBAIBBAMDBAICAwQDAwICAgIBBQUF",
                    "dtype": "i1"
                  }
                }
              ],
              "layout": {
                "font": {
                  "size": 12
                },
                "height": 600,
                "margin": {
                  "b": 0,
                  "l": 0,
                  "r": 0,
                  "t": 80
                },
                "template": {
                  "data": {
                    "bar": [
                      {
                        "error_x": {
                          "color": "#2a3f5f"
                        },
                        "error_y": {
                          "color": "#2a3f5f"
                        },
                        "marker": {
                          "line": {
                            "color": "#E5ECF6",
                            "width": 0.5
                          },
                          "pattern": {
                            "fillmode": "overlay",
                            "size": 10,
                            "solidity": 0.2
                          }
                        },
                        "type": "bar"
                      }
                    ],
                    "barpolar": [
                      {
                        "marker": {
                          "line": {
                            "color": "#E5ECF6",
                            "width": 0.5
                          },
                          "pattern": {
                            "fillmode": "overlay",
                            "size": 10,
                            "solidity": 0.2
                          }
                        },
                        "type": "barpolar"
                      }
                    ],
                    "carpet": [
                      {
                        "aaxis": {
                          "endlinecolor": "#2a3f5f",
                          "gridcolor": "white",
                          "linecolor": "white",
                          "minorgridcolor": "white",
                          "startlinecolor": "#2a3f5f"
                        },
                        "baxis": {
                          "endlinecolor": "#2a3f5f",
                          "gridcolor": "white",
                          "linecolor": "white",
                          "minorgridcolor": "white",
                          "startlinecolor": "#2a3f5f"
                        },
                        "type": "carpet"
                      }
                    ],
                    "choropleth": [
                      {
                        "colorbar": {
                          "outlinewidth": 0,
                          "ticks": ""
                        },
                        "type": "choropleth"
                      }
                    ],
                    "contour": [
                      {
                        "colorbar": {
                          "outlinewidth": 0,
                          "ticks": ""
                        },
                        "colorscale": [
                          [
                            0,
                            "#0d0887"
                          ],
                          [
                            0.1111111111111111,
                            "#46039f"
                          ],
                          [
                            0.2222222222222222,
                            "#7201a8"
                          ],
                          [
                            0.3333333333333333,
                            "#9c179e"
                          ],
                          [
                            0.4444444444444444,
                            "#bd3786"
                          ],
                          [
                            0.5555555555555556,
                            "#d8576b"
                          ],
                          [
                            0.6666666666666666,
                            "#ed7953"
                          ],
                          [
                            0.7777777777777778,
                            "#fb9f3a"
                          ],
                          [
                            0.8888888888888888,
                            "#fdca26"
                          ],
                          [
                            1,
                            "#f0f921"
                          ]
                        ],
                        "type": "contour"
                      }
                    ],
                    "contourcarpet": [
                      {
                        "colorbar": {
                          "outlinewidth": 0,
                          "ticks": ""
                        },
                        "type": "contourcarpet"
                      }
                    ],
                    "heatmap": [
                      {
                        "colorbar": {
                          "outlinewidth": 0,
                          "ticks": ""
                        },
                        "colorscale": [
                          [
                            0,
                            "#0d0887"
                          ],
                          [
                            0.1111111111111111,
                            "#46039f"
                          ],
                          [
                            0.2222222222222222,
                            "#7201a8"
                          ],
                          [
                            0.3333333333333333,
                            "#9c179e"
                          ],
                          [
                            0.4444444444444444,
                            "#bd3786"
                          ],
                          [
                            0.5555555555555556,
                            "#d8576b"
                          ],
                          [
                            0.6666666666666666,
                            "#ed7953"
                          ],
                          [
                            0.7777777777777778,
                            "#fb9f3a"
                          ],
                          [
                            0.8888888888888888,
                            "#fdca26"
                          ],
                          [
                            1,
                            "#f0f921"
                          ]
                        ],
                        "type": "heatmap"
                      }
                    ],
                    "histogram": [
                      {
                        "marker": {
                          "pattern": {
                            "fillmode": "overlay",
                            "size": 10,
                            "solidity": 0.2
                          }
                        },
                        "type": "histogram"
                      }
                    ],
                    "histogram2d": [
                      {
                        "colorbar": {
                          "outlinewidth": 0,
                          "ticks": ""
                        },
                        "colorscale": [
                          [
                            0,
                            "#0d0887"
                          ],
                          [
                            0.1111111111111111,
                            "#46039f"
                          ],
                          [
                            0.2222222222222222,
                            "#7201a8"
                          ],
                          [
                            0.3333333333333333,
                            "#9c179e"
                          ],
                          [
                            0.4444444444444444,
                            "#bd3786"
                          ],
                          [
                            0.5555555555555556,
                            "#d8576b"
                          ],
                          [
                            0.6666666666666666,
                            "#ed7953"
                          ],
                          [
                            0.7777777777777778,
                            "#fb9f3a"
                          ],
                          [
                            0.8888888888888888,
                            "#fdca26"
                          ],
                          [
                            1,
                            "#f0f921"
                          ]
                        ],
                        "type": "histogram2d"
                      }
                    ],
                    "histogram2dcontour": [
                      {
                        "colorbar": {
                          "outlinewidth": 0,
                          "ticks": ""
                        },
                        "colorscale": [
                          [
                            0,
                            "#0d0887"
                          ],
                          [
                            0.1111111111111111,
                            "#46039f"
                          ],
                          [
                            0.2222222222222222,
                            "#7201a8"
                          ],
                          [
                            0.3333333333333333,
                            "#9c179e"
                          ],
                          [
                            0.4444444444444444,
                            "#bd3786"
                          ],
                          [
                            0.5555555555555556,
                            "#d8576b"
                          ],
                          [
                            0.6666666666666666,
                            "#ed7953"
                          ],
                          [
                            0.7777777777777778,
                            "#fb9f3a"
                          ],
                          [
                            0.8888888888888888,
                            "#fdca26"
                          ],
                          [
                            1,
                            "#f0f921"
                          ]
                        ],
                        "type": "histogram2dcontour"
                      }
                    ],
                    "mesh3d": [
                      {
                        "colorbar": {
                          "outlinewidth": 0,
                          "ticks": ""
                        },
                        "type": "mesh3d"
                      }
                    ],
                    "parcoords": [
                      {
                        "line": {
                          "colorbar": {
                            "outlinewidth": 0,
                            "ticks": ""
                          }
                        },
                        "type": "parcoords"
                      }
                    ],
                    "pie": [
                      {
                        "automargin": true,
                        "type": "pie"
                      }
                    ],
                    "scatter": [
                      {
                        "fillpattern": {
                          "fillmode": "overlay",
                          "size": 10,
                          "solidity": 0.2
                        },
                        "type": "scatter"
                      }
                    ],
                    "scatter3d": [
                      {
                        "line": {
                          "colorbar": {
                            "outlinewidth": 0,
                            "ticks": ""
                          }
                        },
                        "marker": {
                          "colorbar": {
                            "outlinewidth": 0,
                            "ticks": ""
                          }
                        },
                        "type": "scatter3d"
                      }
                    ],
                    "scattercarpet": [
                      {
                        "marker": {
                          "colorbar": {
                            "outlinewidth": 0,
                            "ticks": ""
                          }
                        },
                        "type": "scattercarpet"
                      }
                    ],
                    "scattergeo": [
                      {
                        "marker": {
                          "colorbar": {
                            "outlinewidth": 0,
                            "ticks": ""
                          }
                        },
                        "type": "scattergeo"
                      }
                    ],
                    "scattergl": [
                      {
                        "marker": {
                          "colorbar": {
                            "outlinewidth": 0,
                            "ticks": ""
                          }
                        },
                        "type": "scattergl"
                      }
                    ],
                    "scattermap": [
                      {
                        "marker": {
                          "colorbar": {
                            "outlinewidth": 0,
                            "ticks": ""
                          }
                        },
                        "type": "scattermap"
                      }
                    ],
                    "scattermapbox": [
                      {
                        "marker": {
                          "colorbar": {
                            "outlinewidth": 0,
                            "ticks": ""
                          }
                        },
                        "type": "scattermapbox"
                      }
                    ],
                    "scatterpolar": [
                      {
                        "marker": {
                          "colorbar": {
                            "outlinewidth": 0,
                            "ticks": ""
                          }
                        },
                        "type": "scatterpolar"
                      }
                    ],
                    "scatterpolargl": [
                      {
                        "marker": {
                          "colorbar": {
                            "outlinewidth": 0,
                            "ticks": ""
                          }
                        },
                        "type": "scatterpolargl"
                      }
                    ],
                    "scatterternary": [
                      {
                        "marker": {
                          "colorbar": {
                            "outlinewidth": 0,
                            "ticks": ""
                          }
                        },
                        "type": "scatterternary"
                      }
                    ],
                    "surface": [
                      {
                        "colorbar": {
                          "outlinewidth": 0,
                          "ticks": ""
                        },
                        "colorscale": [
                          [
                            0,
                            "#0d0887"
                          ],
                          [
                            0.1111111111111111,
                            "#46039f"
                          ],
                          [
                            0.2222222222222222,
                            "#7201a8"
                          ],
                          [
                            0.3333333333333333,
                            "#9c179e"
                          ],
                          [
                            0.4444444444444444,
                            "#bd3786"
                          ],
                          [
                            0.5555555555555556,
                            "#d8576b"
                          ],
                          [
                            0.6666666666666666,
                            "#ed7953"
                          ],
                          [
                            0.7777777777777778,
                            "#fb9f3a"
                          ],
                          [
                            0.8888888888888888,
                            "#fdca26"
                          ],
                          [
                            1,
                            "#f0f921"
                          ]
                        ],
                        "type": "surface"
                      }
                    ],
                    "table": [
                      {
                        "cells": {
                          "fill": {
                            "color": "#EBF0F8"
                          },
                          "line": {
                            "color": "white"
                          }
                        },
                        "header": {
                          "fill": {
                            "color": "#C8D4E3"
                          },
                          "line": {
                            "color": "white"
                          }
                        },
                        "type": "table"
                      }
                    ]
                  },
                  "layout": {
                    "annotationdefaults": {
                      "arrowcolor": "#2a3f5f",
                      "arrowhead": 0,
                      "arrowwidth": 1
                    },
                    "autotypenumbers": "strict",
                    "coloraxis": {
                      "colorbar": {
                        "outlinewidth": 0,
                        "ticks": ""
                      }
                    },
                    "colorscale": {
                      "diverging": [
                        [
                          0,
                          "#8e0152"
                        ],
                        [
                          0.1,
                          "#c51b7d"
                        ],
                        [
                          0.2,
                          "#de77ae"
                        ],
                        [
                          0.3,
                          "#f1b6da"
                        ],
                        [
                          0.4,
                          "#fde0ef"
                        ],
                        [
                          0.5,
                          "#f7f7f7"
                        ],
                        [
                          0.6,
                          "#e6f5d0"
                        ],
                        [
                          0.7,
                          "#b8e186"
                        ],
                        [
                          0.8,
                          "#7fbc41"
                        ],
                        [
                          0.9,
                          "#4d9221"
                        ],
                        [
                          1,
                          "#276419"
                        ]
                      ],
                      "sequential": [
                        [
                          0,
                          "#0d0887"
                        ],
                        [
                          0.1111111111111111,
                          "#46039f"
                        ],
                        [
                          0.2222222222222222,
                          "#7201a8"
                        ],
                        [
                          0.3333333333333333,
                          "#9c179e"
                        ],
                        [
                          0.4444444444444444,
                          "#bd3786"
                        ],
                        [
                          0.5555555555555556,
                          "#d8576b"
                        ],
                        [
                          0.6666666666666666,
                          "#ed7953"
                        ],
                        [
                          0.7777777777777778,
                          "#fb9f3a"
                        ],
                        [
                          0.8888888888888888,
                          "#fdca26"
                        ],
                        [
                          1,
                          "#f0f921"
                        ]
                      ],
                      "sequentialminus": [
                        [
                          0,
                          "#0d0887"
                        ],
                        [
                          0.1111111111111111,
                          "#46039f"
                        ],
                        [
                          0.2222222222222222,
                          "#7201a8"
                        ],
                        [
                          0.3333333333333333,
                          "#9c179e"
                        ],
                        [
                          0.4444444444444444,
                          "#bd3786"
                        ],
                        [
                          0.5555555555555556,
                          "#d8576b"
                        ],
                        [
                          0.6666666666666666,
                          "#ed7953"
                        ],
                        [
                          0.7777777777777778,
                          "#fb9f3a"
                        ],
                        [
                          0.8888888888888888,
                          "#fdca26"
                        ],
                        [
                          1,
                          "#f0f921"
                        ]
                      ]
                    },
                    "colorway": [
                      "#636efa",
                      "#EF553B",
                      "#00cc96",
                      "#ab63fa",
                      "#FFA15A",
                      "#19d3f3",
                      "#FF6692",
                      "#B6E880",
                      "#FF97FF",
                      "#FECB52"
                    ],
                    "font": {
                      "color": "#2a3f5f"
                    },
                    "geo": {
                      "bgcolor": "white",
                      "lakecolor": "white",
                      "landcolor": "#E5ECF6",
                      "showlakes": true,
                      "showland": true,
                      "subunitcolor": "white"
                    },
                    "hoverlabel": {
                      "align": "left"
                    },
                    "hovermode": "closest",
                    "mapbox": {
                      "style": "light"
                    },
                    "paper_bgcolor": "white",
                    "plot_bgcolor": "#E5ECF6",
                    "polar": {
                      "angularaxis": {
                        "gridcolor": "white",
                        "linecolor": "white",
                        "ticks": ""
                      },
                      "bgcolor": "#E5ECF6",
                      "radialaxis": {
                        "gridcolor": "white",
                        "linecolor": "white",
                        "ticks": ""
                      }
                    },
                    "scene": {
                      "xaxis": {
                        "backgroundcolor": "#E5ECF6",
                        "gridcolor": "white",
                        "gridwidth": 2,
                        "linecolor": "white",
                        "showbackground": true,
                        "ticks": "",
                        "zerolinecolor": "white"
                      },
                      "yaxis": {
                        "backgroundcolor": "#E5ECF6",
                        "gridcolor": "white",
                        "gridwidth": 2,
                        "linecolor": "white",
                        "showbackground": true,
                        "ticks": "",
                        "zerolinecolor": "white"
                      },
                      "zaxis": {
                        "backgroundcolor": "#E5ECF6",
                        "gridcolor": "white",
                        "gridwidth": 2,
                        "linecolor": "white",
                        "showbackground": true,
                        "ticks": "",
                        "zerolinecolor": "white"
                      }
                    },
                    "shapedefaults": {
                      "line": {
                        "color": "#2a3f5f"
                      }
                    },
                    "ternary": {
                      "aaxis": {
                        "gridcolor": "white",
                        "linecolor": "white",
                        "ticks": ""
                      },
                      "baxis": {
                        "gridcolor": "white",
                        "linecolor": "white",
                        "ticks": ""
                      },
                      "bgcolor": "#E5ECF6",
                      "caxis": {
                        "gridcolor": "white",
                        "linecolor": "white",
                        "ticks": ""
                      }
                    },
                    "title": {
                      "x": 0.05
                    },
                    "xaxis": {
                      "automargin": true,
                      "gridcolor": "white",
                      "linecolor": "white",
                      "ticks": "",
                      "title": {
                        "standoff": 15
                      },
                      "zerolinecolor": "white",
                      "zerolinewidth": 2
                    },
                    "yaxis": {
                      "automargin": true,
                      "gridcolor": "white",
                      "linecolor": "white",
                      "ticks": "",
                      "title": {
                        "standoff": 15
                      },
                      "zerolinecolor": "white",
                      "zerolinewidth": 2
                    }
                  }
                },
                "title": {
                  "text": "WBS Sunburst View<br><sub>Radial Tree Structure</sub>"
                }
              }
            }
          },
          "metadata": {},
          "output_type": "display_data"
        }
      ],
      "source": [
        "\n",
        "# %%\n",
        "import pandas as pd\n",
        "import plotly.express as px\n",
        "import plotly.graph_objects as go\n",
        "from plotly.subplots import make_subplots\n",
        "\n",
        "# Define comprehensive WBS hierarchy: Project -> Phase/Deliverable -> Work Package -> Activities\n",
        "wbs_data = [\n",
        "    # Root Project Level\n",
        "    (\"Project Helios\", \"\", \"\", \"\", 100, \"Project\"),\n",
        "    \n",
        "    # Phase/Deliverable Level (Level 1)\n",
        "    (\"Phase 1: Seed Deployment\", \"Project Helios\", \"\", \"\", 25, \"Phase\"),\n",
        "    (\"Phase 2: Bootstrap Replication\", \"Project Helios\", \"\", \"\", 25, \"Phase\"),\n",
        "    (\"Phase 3: Infrastructure Expansion\", \"Project Helios\", \"\", \"\", 25, \"Phase\"),\n",
        "    (\"Phase 4: Dyson Swarm Assembly\", \"Project Helios\", \"\", \"\", 15, \"Phase\"),\n",
        "    (\"Phase 5: Operations\", \"Project Helios\", \"\", \"\", 10, \"Phase\"),\n",
        "    \n",
        "    # Work Package Level (Level 2) - Phase 1\n",
        "    (\"1.0 Program Mgmt & SE\", \"Phase 1: Seed Deployment\", \"\", \"\", 8, \"Work Package\"),\n",
        "    (\"2.0 Seed Units R&D\", \"Phase 1: Seed Deployment\", \"\", \"\", 12, \"Work Package\"),\n",
        "    (\"8.0 Verification & Pilots\", \"Phase 1: Seed Deployment\", \"\", \"\", 5, \"Work Package\"),\n",
        "    \n",
        "    # Work Package Level (Level 2) - Phase 2\n",
        "    (\"3.0 ISRU & Manufacturing\", \"Phase 2: Bootstrap Replication\", \"\", \"\", 15, \"Work Package\"),\n",
        "    (\"4.0 Replication & Assembly Ops\", \"Phase 2: Bootstrap Replication\", \"\", \"\", 10, \"Work Package\"),\n",
        "    \n",
        "    # Work Package Level (Level 2) - Phase 3\n",
        "    (\"5.0 Launch & Orbital Integration\", \"Phase 3: Infrastructure Expansion\", \"\", \"\", 8, \"Work Package\"),\n",
        "    (\"6.0 Collector/Reflector Panels\", \"Phase 3: Infrastructure Expansion\", \"\", \"\", 10, \"Work Package\"),\n",
        "    (\"7.0 Power Beaming & Earth Interface\", \"Phase 3: Infrastructure Expansion\", \"\", \"\", 7, \"Work Package\"),\n",
        "    \n",
        "    # Work Package Level (Level 2) - Phase 4\n",
        "    (\"9.0 Deployment & Scale-Up\", \"Phase 4: Dyson Swarm Assembly\", \"\", \"\", 15, \"Work Package\"),\n",
        "    \n",
        "    # Activity Level (Level 3) - detailed breakdown\n",
        "    # 1.0 Program Mgmt & SE Activities\n",
        "    (\"1.1 Governance/Stakeholders\", \"Phase 1: Seed Deployment\", \"1.0 Program Mgmt & SE\", \"\", 3, \"Activity\"),\n",
        "    (\"1.2 Systems Eng & CM\", \"Phase 1: Seed Deployment\", \"1.0 Program Mgmt & SE\", \"\", 3, \"Activity\"),\n",
        "    (\"1.3 Safety & Replication Governance\", \"Phase 1: Seed Deployment\", \"1.0 Program Mgmt & SE\", \"\", 2, \"Activity\"),\n",
        "    \n",
        "    # 2.0 Seed Units R&D Activities\n",
        "    (\"2.1 Mechatronics & Power\", \"Phase 1: Seed Deployment\", \"2.0 Seed Units R&D\", \"\", 4, \"Activity\"),\n",
        "    (\"2.2 Autonomy Stack\", \"Phase 1: Seed Deployment\", \"2.0 Seed Units R&D\", \"\", 4, \"Activity\"),\n",
        "    (\"2.3 Partial Replication Design\", \"Phase 1: Seed Deployment\", \"2.0 Seed Units R&D\", \"\", 2, \"Activity\"),\n",
        "    (\"2.4 Environmental Testing\", \"Phase 1: Seed Deployment\", \"2.0 Seed Units R&D\", \"\", 2, \"Activity\"),\n",
        "    \n",
        "    # 3.0 ISRU & Manufacturing Activities\n",
        "    (\"3.1 Resource Mapping\", \"Phase 2: Bootstrap Replication\", \"3.0 ISRU & Manufacturing\", \"\", 3, \"Activity\"),\n",
        "    (\"3.2 Mining/Extraction\", \"Phase 2: Bootstrap Replication\", \"3.0 ISRU & Manufacturing\", \"\", 5, \"Activity\"),\n",
        "    (\"3.3 Processing Lines\", \"Phase 2: Bootstrap Replication\", \"3.0 ISRU & Manufacturing\", \"\", 4, \"Activity\"),\n",
        "    (\"3.4 Additive Mfg Cells\", \"Phase 2: Bootstrap Replication\", \"3.0 ISRU & Manufacturing\", \"\", 2, \"Activity\"),\n",
        "    (\"3.5 QA & Metrology\", \"Phase 2: Bootstrap Replication\", \"3.0 ISRU & Manufacturing\", \"\", 1, \"Activity\"),\n",
        "    \n",
        "    # 4.0 Replication & Assembly Ops Activities\n",
        "    (\"4.1 Assembly Cells\", \"Phase 2: Bootstrap Replication\", \"4.0 Replication & Assembly Ops\", \"\", 4, \"Activity\"),\n",
        "    (\"4.2 Replication Controls\", \"Phase 2: Bootstrap Replication\", \"4.0 Replication & Assembly Ops\", \"\", 3, \"Activity\"),\n",
        "    (\"4.3 Spares & Maintenance\", \"Phase 2: Bootstrap Replication\", \"4.0 Replication & Assembly Ops\", \"\", 3, \"Activity\"),\n",
        "    \n",
        "    # 5.0 Launch & Orbital Integration Activities\n",
        "    (\"5.1 Mass Driver\", \"Phase 3: Infrastructure Expansion\", \"5.0 Launch & Orbital Integration\", \"\", 4, \"Activity\"),\n",
        "    (\"5.2 Panel Packaging & Launch\", \"Phase 3: Infrastructure Expansion\", \"5.0 Launch & Orbital Integration\", \"\", 2, \"Activity\"),\n",
        "    (\"5.3 Orbital Insertion & Formation\", \"Phase 3: Infrastructure Expansion\", \"5.0 Launch & Orbital Integration\", \"\", 2, \"Activity\"),\n",
        "    \n",
        "    # 6.0 Collector/Reflector Panels Activities\n",
        "    (\"6.1 Bus/Thermal/Coatings\", \"Phase 3: Infrastructure Expansion\", \"6.0 Collector/Reflector Panels\", \"\", 3, \"Activity\"),\n",
        "    (\"6.2 PV/Reflector Integration\", \"Phase 3: Infrastructure Expansion\", \"6.0 Collector/Reflector Panels\", \"\", 4, \"Activity\"),\n",
        "    (\"6.3 Health/Telemetry\", \"Phase 3: Infrastructure Expansion\", \"6.0 Collector/Reflector Panels\", \"\", 3, \"Activity\"),\n",
        "    \n",
        "    # 7.0 Power Beaming & Earth Interface Activities\n",
        "    (\"7.1 Space Transmitters\", \"Phase 3: Infrastructure Expansion\", \"7.0 Power Beaming & Earth Interface\", \"\", 3, \"Activity\"),\n",
        "    (\"7.2 Rectenna & Grid\", \"Phase 3: Infrastructure Expansion\", \"7.0 Power Beaming & Earth Interface\", \"\", 2, \"Activity\"),\n",
        "    (\"7.3 Regulatory & Safety\", \"Phase 3: Infrastructure Expansion\", \"7.0 Power Beaming & Earth Interface\", \"\", 2, \"Activity\"),\n",
        "    \n",
        "    # 8.0 Verification & Pilots Activities\n",
        "    (\"8.1 Ground Demos\", \"Phase 1: Seed Deployment\", \"8.0 Verification & Pilots\", \"\", 2, \"Activity\"),\n",
        "    (\"8.2 Mercury Pathfinder\", \"Phase 1: Seed Deployment\", \"8.0 Verification & Pilots\", \"\", 2, \"Activity\"),\n",
        "    (\"8.3 Panel & Beaming Pilots\", \"Phase 1: Seed Deployment\", \"8.0 Verification & Pilots\", \"\", 1, \"Activity\"),\n",
        "    \n",
        "    # 9.0 Deployment & Scale-Up Activities\n",
        "    (\"9.1 Fab Ramp\", \"Phase 4: Dyson Swarm Assembly\", \"9.0 Deployment & Scale-Up\", \"\", 5, \"Activity\"),\n",
        "    (\"9.2 Multi-Driver Network\", \"Phase 4: Dyson Swarm Assembly\", \"9.0 Deployment & Scale-Up\", \"\", 5, \"Activity\"),\n",
        "    (\"9.3 Ops/Maint/Optimization\", \"Phase 4: Dyson Swarm Assembly\", \"9.0 Deployment & Scale-Up\", \"\", 5, \"Activity\"),\n",
        "]\n",
        "\n",
        "wbs_df = pd.DataFrame(wbs_data, columns=[\"Element\", \"Phase\", \"Work_Package\", \"Parent\", \"Effort\", \"Level\"])\n",
        "\n",
        "# Create hierarchical tree structure for visualization\n",
        "def create_tree_paths(df):\n",
        "    \"\"\"Create proper hierarchical paths for treemap visualization\"\"\"\n",
        "    tree_data = []\n",
        "    \n",
        "    for _, row in df.iterrows():\n",
        "        if row['Level'] == 'Project':\n",
        "            tree_data.append({\n",
        "                'ids': row['Element'],\n",
        "                'labels': row['Element'],\n",
        "                'parents': '',\n",
        "                'values': row['Effort'],\n",
        "                'level': 'Project'\n",
        "            })\n",
        "        elif row['Level'] == 'Phase':\n",
        "            tree_data.append({\n",
        "                'ids': row['Element'],\n",
        "                'labels': row['Element'],\n",
        "                'parents': 'Project Helios',\n",
        "                'values': row['Effort'],\n",
        "                'level': 'Phase'\n",
        "            })\n",
        "        elif row['Level'] == 'Work Package':\n",
        "            tree_data.append({\n",
        "                'ids': row['Element'],\n",
        "                'labels': row['Element'],\n",
        "                'parents': row['Phase'],\n",
        "                'values': row['Effort'],\n",
        "                'level': 'Work Package'\n",
        "            })\n",
        "        elif row['Level'] == 'Activity':\n",
        "            tree_data.append({\n",
        "                'ids': row['Element'],\n",
        "                'labels': row['Element'],\n",
        "                'parents': row['Work_Package'],\n",
        "                'values': row['Effort'],\n",
        "                'level': 'Activity'\n",
        "            })\n",
        "    \n",
        "    return pd.DataFrame(tree_data)\n",
        "\n",
        "tree_df = create_tree_paths(wbs_df)\n",
        "\n",
        "# Create Hierarchical Treemap\n",
        "fig_tree = go.Figure(go.Treemap(\n",
        "    ids=tree_df['ids'],\n",
        "    labels=tree_df['labels'],\n",
        "    parents=tree_df['parents'],\n",
        "    values=tree_df['values'],\n",
        "    branchvalues=\"total\",\n",
        "    hovertemplate='<b>%{label}</b><br>Level: %{customdata}<br>Effort: %{value}%<extra></extra>',\n",
        "    customdata=tree_df['level'],\n",
        "    maxdepth=4,\n",
        "    textinfo=\"label+value\",\n",
        "))\n",
        "\n",
        "fig_tree.update_layout(\n",
        "    title=\"WBS Hierarchical Tree Structure<br><sub>Project → Phases → Work Packages → Activities</sub>\",\n",
        "    font_size=10,\n",
        "    margin=dict(t=80, l=0, r=0, b=0),\n",
        "    height=600\n",
        ")\n",
        "\n",
        "fig_tree.show()\n",
        "\n",
        "# Create Sunburst Chart for alternative tree visualization\n",
        "fig_sun = go.Figure(go.Sunburst(\n",
        "    ids=tree_df['ids'],\n",
        "    labels=tree_df['labels'],\n",
        "    parents=tree_df['parents'],\n",
        "    values=tree_df['values'],\n",
        "    branchvalues=\"total\",\n",
        "    hovertemplate='<b>%{label}</b><br>Level: %{customdata}<br>Effort: %{value}%<extra></extra>',\n",
        "    customdata=tree_df['level'],\n",
        "    maxdepth=4,\n",
        "))\n",
        "\n",
        "fig_sun.update_layout(\n",
        "    title=\"WBS Sunburst View<br><sub>Radial Tree Structure</sub>\",\n",
        "    font_size=12,\n",
        "    margin=dict(t=80, l=0, r=0, b=0),\n",
        "    height=600\n",
        ")\n",
        "\n",
        "fig_sun.show()\n"
      ]
    },
    {
      "cell_type": "markdown",
      "metadata": {},
      "source": [
        "\n",
        "## 3) Activity List (Selected Work Packages)\n",
        "\n",
        "| WP ID | Activity | Duration | Required Skills |\n",
        "|---|---|---|---|\n",
        "| 1.1 | Program kickoff, governance framework & ethics controls | 8 weeks | Program Mgmt, Space Law, Ethics |\n",
        "| 2.1 | Seed robot mechatronics breadboard (Gen‑0) | 20 weeks | Mech/EE, Thermal, Dust Mitigation |\n",
        "| 2.2 | Autonomy stack v1 (payload‑centric, local behaviors) | 24 weeks | Robotics/Controls, CV, SW Eng |\n",
        "| 2.4 | Environmental testing (TVAC/rad/abrasion) | 16 weeks | Test Eng, Materials, QA |\n",
        "| 3.1 | Mercury site selection & resource mapping plan | 12 weeks | Planetary Science, Geology, GNC |\n",
        "| 3.2 | Mining subsystem prototype (excavation + haul) | 28 weeks | Mining Eng, Mechatronics |\n",
        "| 3.3 | Metal extraction line (carbothermal/electrolysis) | 36 weeks | ChemE, Materials, Process Eng |\n",
        "| 3.4 | Additive manufacturing cell (metal AM) | 28 weeks | AM/Metallurgy, NDE/Metrology |\n",
        "| 4.1 | Assembly cell design (fixtures, jigs, toolchains) | 18 weeks | Mfg Eng, Robotics |\n",
        "| 4.2 | Replication controls (caps, quotas, kill‑switch) | 12 weeks | Safety Eng, Formal Methods |\n",
        "| 5.1 | Mass driver conceptual → PDR | 24 weeks | Power, EM, Structures |\n",
        "| 5.2 | Mass driver prototype coil & firing test | 20 weeks | EM, HV Power, Controls |\n",
        "| 6.1 | Panel bus + thermal design, breadboard | 20 weeks | Thermal, Power, Mech |\n",
        "| 6.2 | PV/reflector selection & coatings validation | 24 weeks | PV/Optics, Materials |\n",
        "| 7.1 | Beaming chain architecture (space + Earth) | 14 weeks | RF/Photonics, Power Systems |\n",
        "| 7.2 | Rectenna pilot site studies & permits | 16 weeks | Grid Interconnect, Policy |\n",
        "| 8.1 | Ground integrated demo (replication dry‑run) | 16 weeks | IV&V, Systems |\n",
        "| 8.2 | Mercury pathfinder integration & launch prep | 28 weeks | AIT/ATLO, Mission Ops |\n",
        "| 9.1 | Panel fab line ramp plan & ops playbook | 18 weeks | Industrial Eng, Ops |\n",
        "| 9.2 | Ops, maintenance, and optimization loop (ongoing) | Continuous | Ops, Data/ML |\n"
      ]
    },
    {
      "cell_type": "markdown",
      "metadata": {},
      "source": [
        "\n",
        "## 4) Project Milestones\n",
        "\n",
        "| # | Milestone | Target Date | Owner |\n",
        "|---|---|---|---|\n",
        "| M1 | Part‑2 Baseline Approved (this package) | 2025‑09‑28 | PMO |\n",
        "| M2 | Seed Gen‑0 prototype functional | 2026‑05‑15 | Seed R&D Lead |\n",
        "| M3 | Ground demo: partial replication (structural) | 2026‑11‑30 | IV&V Lead |\n",
        "| M4 | Mass driver PDR complete | 2027‑03‑31 | Launch Systems Lead |\n",
        "| M5 | Payload‑centric autonomy v1 validated | 2027‑06‑30 | Autonomy Lead |\n",
        "| M6 | Mercury pathfinder launch | 2028‑09‑30 | Mission Director |\n",
        "| M7 | In‑situ replication ≥1 unit/day | 2031‑09‑30 | Surface Ops Lead |\n",
        "| M8 | First reflector panels launched to solar orbit | 2034‑06‑30 | Launch Ops |\n",
        "| M9 | Power‑beaming pilot to Earth rectenna | 2036‑12‑31 | Beaming Lead |\n",
        "| M10 | Industrial scale‑up (≥10 MW(e)/day per cluster) | 2037‑09‑30 | Mfg Director |\n",
        "| M11 | Multi‑driver launch network online | 2040‑03‑31 | Launch Systems |\n",
        "| M12 | Phase‑4 energy delivery to Earth (sustained) | 2043‑09‑30 | Grid Liaison |\n",
        "| M13 | ≥20 TW net delivered to Earth | 2045‑09‑30 | Program Exec |\n"
      ]
    },
    {
      "cell_type": "code",
      "execution_count": 2,
      "metadata": {},
      "outputs": [
        {
          "data": {
            "application/vnd.plotly.v1+json": {
              "config": {
                "plotlyServerURL": "https://plot.ly"
              },
              "data": [
                {
                  "hovertemplate": "%{text}<br>%{x|%Y-%m-%d}<extra></extra>",
                  "marker": {
                    "color": "#1f77b4",
                    "size": 12
                  },
                  "mode": "markers",
                  "text": [
                    "M1 — PMO",
                    "M2 — Seed R&D Lead",
                    "M3 — IV&V Lead",
                    "M4 — Launch Systems Lead",
                    "M5 — Autonomy Lead",
                    "M6 — Mission Director",
                    "M7 — Surface Ops Lead",
                    "M8 — Launch Ops",
                    "M9 — Beaming Lead",
                    "M10 — Mfg Director",
                    "M11 — Launch Systems",
                    "M12 — Grid Liaison",
                    "M13 — Program Exec"
                  ],
                  "type": "scatter",
                  "x": [
                    "2025-09-28T00:00:00.000000000",
                    "2026-05-15T00:00:00.000000000",
                    "2026-11-30T00:00:00.000000000",
                    "2027-03-31T00:00:00.000000000",
                    "2027-06-30T00:00:00.000000000",
                    "2028-09-30T00:00:00.000000000",
                    "2031-09-30T00:00:00.000000000",
                    "2034-06-30T00:00:00.000000000",
                    "2036-12-31T00:00:00.000000000",
                    "2037-09-30T00:00:00.000000000",
                    "2040-03-31T00:00:00.000000000",
                    "2043-09-30T00:00:00.000000000",
                    "2045-09-30T00:00:00.000000000"
                  ],
                  "y": {
                    "bdata": "AQIDBAUGBwgJCgsMDQ==",
                    "dtype": "i1"
                  }
                }
              ],
              "layout": {
                "height": 480,
                "shapes": [
                  {
                    "line": {
                      "color": "#1f77b4",
                      "width": 2
                    },
                    "type": "line",
                    "x0": "2025-09-28T00:00:00",
                    "x1": "2025-09-28T00:00:00",
                    "y0": 0,
                    "y1": 1
                  },
                  {
                    "line": {
                      "color": "#1f77b4",
                      "width": 2
                    },
                    "type": "line",
                    "x0": "2026-05-15T00:00:00",
                    "x1": "2026-05-15T00:00:00",
                    "y0": 0,
                    "y1": 2
                  },
                  {
                    "line": {
                      "color": "#1f77b4",
                      "width": 2
                    },
                    "type": "line",
                    "x0": "2026-11-30T00:00:00",
                    "x1": "2026-11-30T00:00:00",
                    "y0": 0,
                    "y1": 3
                  },
                  {
                    "line": {
                      "color": "#1f77b4",
                      "width": 2
                    },
                    "type": "line",
                    "x0": "2027-03-31T00:00:00",
                    "x1": "2027-03-31T00:00:00",
                    "y0": 0,
                    "y1": 4
                  },
                  {
                    "line": {
                      "color": "#1f77b4",
                      "width": 2
                    },
                    "type": "line",
                    "x0": "2027-06-30T00:00:00",
                    "x1": "2027-06-30T00:00:00",
                    "y0": 0,
                    "y1": 5
                  },
                  {
                    "line": {
                      "color": "#1f77b4",
                      "width": 2
                    },
                    "type": "line",
                    "x0": "2028-09-30T00:00:00",
                    "x1": "2028-09-30T00:00:00",
                    "y0": 0,
                    "y1": 6
                  },
                  {
                    "line": {
                      "color": "#1f77b4",
                      "width": 2
                    },
                    "type": "line",
                    "x0": "2031-09-30T00:00:00",
                    "x1": "2031-09-30T00:00:00",
                    "y0": 0,
                    "y1": 7
                  },
                  {
                    "line": {
                      "color": "#1f77b4",
                      "width": 2
                    },
                    "type": "line",
                    "x0": "2034-06-30T00:00:00",
                    "x1": "2034-06-30T00:00:00",
                    "y0": 0,
                    "y1": 8
                  },
                  {
                    "line": {
                      "color": "#1f77b4",
                      "width": 2
                    },
                    "type": "line",
                    "x0": "2036-12-31T00:00:00",
                    "x1": "2036-12-31T00:00:00",
                    "y0": 0,
                    "y1": 9
                  },
                  {
                    "line": {
                      "color": "#1f77b4",
                      "width": 2
                    },
                    "type": "line",
                    "x0": "2037-09-30T00:00:00",
                    "x1": "2037-09-30T00:00:00",
                    "y0": 0,
                    "y1": 10
                  },
                  {
                    "line": {
                      "color": "#1f77b4",
                      "width": 2
                    },
                    "type": "line",
                    "x0": "2040-03-31T00:00:00",
                    "x1": "2040-03-31T00:00:00",
                    "y0": 0,
                    "y1": 11
                  },
                  {
                    "line": {
                      "color": "#1f77b4",
                      "width": 2
                    },
                    "type": "line",
                    "x0": "2043-09-30T00:00:00",
                    "x1": "2043-09-30T00:00:00",
                    "y0": 0,
                    "y1": 12
                  },
                  {
                    "line": {
                      "color": "#1f77b4",
                      "width": 2
                    },
                    "type": "line",
                    "x0": "2045-09-30T00:00:00",
                    "x1": "2045-09-30T00:00:00",
                    "y0": 0,
                    "y1": 13
                  }
                ],
                "template": {
                  "data": {
                    "bar": [
                      {
                        "error_x": {
                          "color": "#2a3f5f"
                        },
                        "error_y": {
                          "color": "#2a3f5f"
                        },
                        "marker": {
                          "line": {
                            "color": "#E5ECF6",
                            "width": 0.5
                          },
                          "pattern": {
                            "fillmode": "overlay",
                            "size": 10,
                            "solidity": 0.2
                          }
                        },
                        "type": "bar"
                      }
                    ],
                    "barpolar": [
                      {
                        "marker": {
                          "line": {
                            "color": "#E5ECF6",
                            "width": 0.5
                          },
                          "pattern": {
                            "fillmode": "overlay",
                            "size": 10,
                            "solidity": 0.2
                          }
                        },
                        "type": "barpolar"
                      }
                    ],
                    "carpet": [
                      {
                        "aaxis": {
                          "endlinecolor": "#2a3f5f",
                          "gridcolor": "white",
                          "linecolor": "white",
                          "minorgridcolor": "white",
                          "startlinecolor": "#2a3f5f"
                        },
                        "baxis": {
                          "endlinecolor": "#2a3f5f",
                          "gridcolor": "white",
                          "linecolor": "white",
                          "minorgridcolor": "white",
                          "startlinecolor": "#2a3f5f"
                        },
                        "type": "carpet"
                      }
                    ],
                    "choropleth": [
                      {
                        "colorbar": {
                          "outlinewidth": 0,
                          "ticks": ""
                        },
                        "type": "choropleth"
                      }
                    ],
                    "contour": [
                      {
                        "colorbar": {
                          "outlinewidth": 0,
                          "ticks": ""
                        },
                        "colorscale": [
                          [
                            0,
                            "#0d0887"
                          ],
                          [
                            0.1111111111111111,
                            "#46039f"
                          ],
                          [
                            0.2222222222222222,
                            "#7201a8"
                          ],
                          [
                            0.3333333333333333,
                            "#9c179e"
                          ],
                          [
                            0.4444444444444444,
                            "#bd3786"
                          ],
                          [
                            0.5555555555555556,
                            "#d8576b"
                          ],
                          [
                            0.6666666666666666,
                            "#ed7953"
                          ],
                          [
                            0.7777777777777778,
                            "#fb9f3a"
                          ],
                          [
                            0.8888888888888888,
                            "#fdca26"
                          ],
                          [
                            1,
                            "#f0f921"
                          ]
                        ],
                        "type": "contour"
                      }
                    ],
                    "contourcarpet": [
                      {
                        "colorbar": {
                          "outlinewidth": 0,
                          "ticks": ""
                        },
                        "type": "contourcarpet"
                      }
                    ],
                    "heatmap": [
                      {
                        "colorbar": {
                          "outlinewidth": 0,
                          "ticks": ""
                        },
                        "colorscale": [
                          [
                            0,
                            "#0d0887"
                          ],
                          [
                            0.1111111111111111,
                            "#46039f"
                          ],
                          [
                            0.2222222222222222,
                            "#7201a8"
                          ],
                          [
                            0.3333333333333333,
                            "#9c179e"
                          ],
                          [
                            0.4444444444444444,
                            "#bd3786"
                          ],
                          [
                            0.5555555555555556,
                            "#d8576b"
                          ],
                          [
                            0.6666666666666666,
                            "#ed7953"
                          ],
                          [
                            0.7777777777777778,
                            "#fb9f3a"
                          ],
                          [
                            0.8888888888888888,
                            "#fdca26"
                          ],
                          [
                            1,
                            "#f0f921"
                          ]
                        ],
                        "type": "heatmap"
                      }
                    ],
                    "histogram": [
                      {
                        "marker": {
                          "pattern": {
                            "fillmode": "overlay",
                            "size": 10,
                            "solidity": 0.2
                          }
                        },
                        "type": "histogram"
                      }
                    ],
                    "histogram2d": [
                      {
                        "colorbar": {
                          "outlinewidth": 0,
                          "ticks": ""
                        },
                        "colorscale": [
                          [
                            0,
                            "#0d0887"
                          ],
                          [
                            0.1111111111111111,
                            "#46039f"
                          ],
                          [
                            0.2222222222222222,
                            "#7201a8"
                          ],
                          [
                            0.3333333333333333,
                            "#9c179e"
                          ],
                          [
                            0.4444444444444444,
                            "#bd3786"
                          ],
                          [
                            0.5555555555555556,
                            "#d8576b"
                          ],
                          [
                            0.6666666666666666,
                            "#ed7953"
                          ],
                          [
                            0.7777777777777778,
                            "#fb9f3a"
                          ],
                          [
                            0.8888888888888888,
                            "#fdca26"
                          ],
                          [
                            1,
                            "#f0f921"
                          ]
                        ],
                        "type": "histogram2d"
                      }
                    ],
                    "histogram2dcontour": [
                      {
                        "colorbar": {
                          "outlinewidth": 0,
                          "ticks": ""
                        },
                        "colorscale": [
                          [
                            0,
                            "#0d0887"
                          ],
                          [
                            0.1111111111111111,
                            "#46039f"
                          ],
                          [
                            0.2222222222222222,
                            "#7201a8"
                          ],
                          [
                            0.3333333333333333,
                            "#9c179e"
                          ],
                          [
                            0.4444444444444444,
                            "#bd3786"
                          ],
                          [
                            0.5555555555555556,
                            "#d8576b"
                          ],
                          [
                            0.6666666666666666,
                            "#ed7953"
                          ],
                          [
                            0.7777777777777778,
                            "#fb9f3a"
                          ],
                          [
                            0.8888888888888888,
                            "#fdca26"
                          ],
                          [
                            1,
                            "#f0f921"
                          ]
                        ],
                        "type": "histogram2dcontour"
                      }
                    ],
                    "mesh3d": [
                      {
                        "colorbar": {
                          "outlinewidth": 0,
                          "ticks": ""
                        },
                        "type": "mesh3d"
                      }
                    ],
                    "parcoords": [
                      {
                        "line": {
                          "colorbar": {
                            "outlinewidth": 0,
                            "ticks": ""
                          }
                        },
                        "type": "parcoords"
                      }
                    ],
                    "pie": [
                      {
                        "automargin": true,
                        "type": "pie"
                      }
                    ],
                    "scatter": [
                      {
                        "fillpattern": {
                          "fillmode": "overlay",
                          "size": 10,
                          "solidity": 0.2
                        },
                        "type": "scatter"
                      }
                    ],
                    "scatter3d": [
                      {
                        "line": {
                          "colorbar": {
                            "outlinewidth": 0,
                            "ticks": ""
                          }
                        },
                        "marker": {
                          "colorbar": {
                            "outlinewidth": 0,
                            "ticks": ""
                          }
                        },
                        "type": "scatter3d"
                      }
                    ],
                    "scattercarpet": [
                      {
                        "marker": {
                          "colorbar": {
                            "outlinewidth": 0,
                            "ticks": ""
                          }
                        },
                        "type": "scattercarpet"
                      }
                    ],
                    "scattergeo": [
                      {
                        "marker": {
                          "colorbar": {
                            "outlinewidth": 0,
                            "ticks": ""
                          }
                        },
                        "type": "scattergeo"
                      }
                    ],
                    "scattergl": [
                      {
                        "marker": {
                          "colorbar": {
                            "outlinewidth": 0,
                            "ticks": ""
                          }
                        },
                        "type": "scattergl"
                      }
                    ],
                    "scattermap": [
                      {
                        "marker": {
                          "colorbar": {
                            "outlinewidth": 0,
                            "ticks": ""
                          }
                        },
                        "type": "scattermap"
                      }
                    ],
                    "scattermapbox": [
                      {
                        "marker": {
                          "colorbar": {
                            "outlinewidth": 0,
                            "ticks": ""
                          }
                        },
                        "type": "scattermapbox"
                      }
                    ],
                    "scatterpolar": [
                      {
                        "marker": {
                          "colorbar": {
                            "outlinewidth": 0,
                            "ticks": ""
                          }
                        },
                        "type": "scatterpolar"
                      }
                    ],
                    "scatterpolargl": [
                      {
                        "marker": {
                          "colorbar": {
                            "outlinewidth": 0,
                            "ticks": ""
                          }
                        },
                        "type": "scatterpolargl"
                      }
                    ],
                    "scatterternary": [
                      {
                        "marker": {
                          "colorbar": {
                            "outlinewidth": 0,
                            "ticks": ""
                          }
                        },
                        "type": "scatterternary"
                      }
                    ],
                    "surface": [
                      {
                        "colorbar": {
                          "outlinewidth": 0,
                          "ticks": ""
                        },
                        "colorscale": [
                          [
                            0,
                            "#0d0887"
                          ],
                          [
                            0.1111111111111111,
                            "#46039f"
                          ],
                          [
                            0.2222222222222222,
                            "#7201a8"
                          ],
                          [
                            0.3333333333333333,
                            "#9c179e"
                          ],
                          [
                            0.4444444444444444,
                            "#bd3786"
                          ],
                          [
                            0.5555555555555556,
                            "#d8576b"
                          ],
                          [
                            0.6666666666666666,
                            "#ed7953"
                          ],
                          [
                            0.7777777777777778,
                            "#fb9f3a"
                          ],
                          [
                            0.8888888888888888,
                            "#fdca26"
                          ],
                          [
                            1,
                            "#f0f921"
                          ]
                        ],
                        "type": "surface"
                      }
                    ],
                    "table": [
                      {
                        "cells": {
                          "fill": {
                            "color": "#EBF0F8"
                          },
                          "line": {
                            "color": "white"
                          }
                        },
                        "header": {
                          "fill": {
                            "color": "#C8D4E3"
                          },
                          "line": {
                            "color": "white"
                          }
                        },
                        "type": "table"
                      }
                    ]
                  },
                  "layout": {
                    "annotationdefaults": {
                      "arrowcolor": "#2a3f5f",
                      "arrowhead": 0,
                      "arrowwidth": 1
                    },
                    "autotypenumbers": "strict",
                    "coloraxis": {
                      "colorbar": {
                        "outlinewidth": 0,
                        "ticks": ""
                      }
                    },
                    "colorscale": {
                      "diverging": [
                        [
                          0,
                          "#8e0152"
                        ],
                        [
                          0.1,
                          "#c51b7d"
                        ],
                        [
                          0.2,
                          "#de77ae"
                        ],
                        [
                          0.3,
                          "#f1b6da"
                        ],
                        [
                          0.4,
                          "#fde0ef"
                        ],
                        [
                          0.5,
                          "#f7f7f7"
                        ],
                        [
                          0.6,
                          "#e6f5d0"
                        ],
                        [
                          0.7,
                          "#b8e186"
                        ],
                        [
                          0.8,
                          "#7fbc41"
                        ],
                        [
                          0.9,
                          "#4d9221"
                        ],
                        [
                          1,
                          "#276419"
                        ]
                      ],
                      "sequential": [
                        [
                          0,
                          "#0d0887"
                        ],
                        [
                          0.1111111111111111,
                          "#46039f"
                        ],
                        [
                          0.2222222222222222,
                          "#7201a8"
                        ],
                        [
                          0.3333333333333333,
                          "#9c179e"
                        ],
                        [
                          0.4444444444444444,
                          "#bd3786"
                        ],
                        [
                          0.5555555555555556,
                          "#d8576b"
                        ],
                        [
                          0.6666666666666666,
                          "#ed7953"
                        ],
                        [
                          0.7777777777777778,
                          "#fb9f3a"
                        ],
                        [
                          0.8888888888888888,
                          "#fdca26"
                        ],
                        [
                          1,
                          "#f0f921"
                        ]
                      ],
                      "sequentialminus": [
                        [
                          0,
                          "#0d0887"
                        ],
                        [
                          0.1111111111111111,
                          "#46039f"
                        ],
                        [
                          0.2222222222222222,
                          "#7201a8"
                        ],
                        [
                          0.3333333333333333,
                          "#9c179e"
                        ],
                        [
                          0.4444444444444444,
                          "#bd3786"
                        ],
                        [
                          0.5555555555555556,
                          "#d8576b"
                        ],
                        [
                          0.6666666666666666,
                          "#ed7953"
                        ],
                        [
                          0.7777777777777778,
                          "#fb9f3a"
                        ],
                        [
                          0.8888888888888888,
                          "#fdca26"
                        ],
                        [
                          1,
                          "#f0f921"
                        ]
                      ]
                    },
                    "colorway": [
                      "#636efa",
                      "#EF553B",
                      "#00cc96",
                      "#ab63fa",
                      "#FFA15A",
                      "#19d3f3",
                      "#FF6692",
                      "#B6E880",
                      "#FF97FF",
                      "#FECB52"
                    ],
                    "font": {
                      "color": "#2a3f5f"
                    },
                    "geo": {
                      "bgcolor": "white",
                      "lakecolor": "white",
                      "landcolor": "#E5ECF6",
                      "showlakes": true,
                      "showland": true,
                      "subunitcolor": "white"
                    },
                    "hoverlabel": {
                      "align": "left"
                    },
                    "hovermode": "closest",
                    "mapbox": {
                      "style": "light"
                    },
                    "paper_bgcolor": "white",
                    "plot_bgcolor": "#E5ECF6",
                    "polar": {
                      "angularaxis": {
                        "gridcolor": "white",
                        "linecolor": "white",
                        "ticks": ""
                      },
                      "bgcolor": "#E5ECF6",
                      "radialaxis": {
                        "gridcolor": "white",
                        "linecolor": "white",
                        "ticks": ""
                      }
                    },
                    "scene": {
                      "xaxis": {
                        "backgroundcolor": "#E5ECF6",
                        "gridcolor": "white",
                        "gridwidth": 2,
                        "linecolor": "white",
                        "showbackground": true,
                        "ticks": "",
                        "zerolinecolor": "white"
                      },
                      "yaxis": {
                        "backgroundcolor": "#E5ECF6",
                        "gridcolor": "white",
                        "gridwidth": 2,
                        "linecolor": "white",
                        "showbackground": true,
                        "ticks": "",
                        "zerolinecolor": "white"
                      },
                      "zaxis": {
                        "backgroundcolor": "#E5ECF6",
                        "gridcolor": "white",
                        "gridwidth": 2,
                        "linecolor": "white",
                        "showbackground": true,
                        "ticks": "",
                        "zerolinecolor": "white"
                      }
                    },
                    "shapedefaults": {
                      "line": {
                        "color": "#2a3f5f"
                      }
                    },
                    "ternary": {
                      "aaxis": {
                        "gridcolor": "white",
                        "linecolor": "white",
                        "ticks": ""
                      },
                      "baxis": {
                        "gridcolor": "white",
                        "linecolor": "white",
                        "ticks": ""
                      },
                      "bgcolor": "#E5ECF6",
                      "caxis": {
                        "gridcolor": "white",
                        "linecolor": "white",
                        "ticks": ""
                      }
                    },
                    "title": {
                      "x": 0.05
                    },
                    "xaxis": {
                      "automargin": true,
                      "gridcolor": "white",
                      "linecolor": "white",
                      "ticks": "",
                      "title": {
                        "standoff": 15
                      },
                      "zerolinecolor": "white",
                      "zerolinewidth": 2
                    },
                    "yaxis": {
                      "automargin": true,
                      "gridcolor": "white",
                      "linecolor": "white",
                      "ticks": "",
                      "title": {
                        "standoff": 15
                      },
                      "zerolinecolor": "white",
                      "zerolinewidth": 2
                    }
                  }
                },
                "title": {
                  "text": "Project Milestones — Timeline (Lollipop)"
                },
                "xaxis": {
                  "title": {
                    "text": "Date"
                  }
                },
                "yaxis": {
                  "showticklabels": false,
                  "title": {
                    "text": ""
                  }
                }
              }
            }
          },
          "metadata": {},
          "output_type": "display_data"
        }
      ],
      "source": [
        "\n",
        "# %%\n",
        "# Milestone lollipop timeline\n",
        "import pandas as pd\n",
        "import plotly.graph_objects as go\n",
        "\n",
        "milestones = [\n",
        "    (\"M1\",\"2025-09-28\",\"PMO\"),\n",
        "    (\"M2\",\"2026-05-15\",\"Seed R&D Lead\"),\n",
        "    (\"M3\",\"2026-11-30\",\"IV&V Lead\"),\n",
        "    (\"M4\",\"2027-03-31\",\"Launch Systems Lead\"),\n",
        "    (\"M5\",\"2027-06-30\",\"Autonomy Lead\"),\n",
        "    (\"M6\",\"2028-09-30\",\"Mission Director\"),\n",
        "    (\"M7\",\"2031-09-30\",\"Surface Ops Lead\"),\n",
        "    (\"M8\",\"2034-06-30\",\"Launch Ops\"),\n",
        "    (\"M9\",\"2036-12-31\",\"Beaming Lead\"),\n",
        "    (\"M10\",\"2037-09-30\",\"Mfg Director\"),\n",
        "    (\"M11\",\"2040-03-31\",\"Launch Systems\"),\n",
        "    (\"M12\",\"2043-09-30\",\"Grid Liaison\"),\n",
        "    (\"M13\",\"2045-09-30\",\"Program Exec\"),\n",
        "]\n",
        "\n",
        "ms_df = pd.DataFrame(milestones, columns=[\"Milestone\",\"Date\",\"Owner\"])\n",
        "ms_df['Date'] = pd.to_datetime(ms_df['Date'])\n",
        "ms_df['y'] = range(1, len(ms_df)+1)\n",
        "\n",
        "fig = go.Figure()\n",
        "fig.add_trace(go.Scatter(x=ms_df['Date'], y=ms_df['y'], mode='markers',\n",
        "                         marker=dict(size=12, color='#1f77b4'),\n",
        "                         text=ms_df['Milestone'] + \" — \" + ms_df['Owner'],\n",
        "                         hovertemplate=\"%{text}<br>%{x|%Y-%m-%d}<extra></extra>\"))\n",
        "for i, row in ms_df.iterrows():\n",
        "    fig.add_shape(type='line', x0=row['Date'], x1=row['Date'], y0=0, y1=row['y'], line=dict(color='#1f77b4', width=2))\n",
        "\n",
        "fig.update_layout(title='Project Milestones — Timeline (Lollipop)', xaxis_title='Date', yaxis=dict(title='', showticklabels=False), height=480)\n",
        "fig.show()\n"
      ]
    },
    {
      "cell_type": "markdown",
      "metadata": {},
      "source": [
        "\n",
        "## 5) Activity‑Based Schedule (by Phases)\n",
        "\n",
        "### 5.1 Phase Overview\n",
        "| Phase | Phase Name | Start Date | End Date | Duration |\n",
        "|---|---|---|---|---|\n",
        "| 1 | Seed Deployment | 2025‑10‑01 | 2028‑09‑30 | 3.0 years |\n",
        "| 2 | Bootstrap Replication | 2028‑10‑01 | 2031‑09‑30 | 3.0 years |\n",
        "| 3 | Infrastructure Expansion | 2031‑10‑01 | 2037‑09‑30 | 6.0 years |\n",
        "| 4 | Dyson Swarm Assembly | 2037‑10‑01 | 2043‑09‑30 | 6.0 years |\n",
        "| 5 | Full Operational Capability | 2043‑10‑01 | 2045‑09‑30 | 2.0 years |\n",
        "\n",
        "### 5.2 Detailed Activity Schedule\n",
        "\n",
        "| Activity ID | Activity Name | Phase | Start Date | Finish Date | Duration (weeks) | Work Package |\n",
        "|---|---|---|---|---|---|---|\n",
        "| **Phase 1 Activities** |\n",
        "| 1.1.1 | Program setup & ethics governance | Phase 1 | 2025‑10‑01 | 2025‑11‑26 | 8 | Program Mgmt & SE |\n",
        "| 2.1.1 | Seed Gen‑0 mechatronics | Phase 1 | 2025‑11‑27 | 2026‑04‑14 | 20 | Seed Units R&D |\n",
        "| 2.2.1 | Autonomy v1 (payload‑centric) | Phase 1 | 2026‑01‑15 | 2026‑06‑30 | 24 | Seed Units R&D |\n",
        "| 2.4.1 | Environmental testing (seed units) | Phase 1 | 2026‑07‑01 | 2026‑10‑20 | 16 | Seed Units R&D |\n",
        "| 8.1.1 | Ground replication dry‑run | Phase 1 | 2026‑10‑21 | 2027‑02‑08 | 16 | Verification & Pilots |\n",
        "| 5.1.1 | Mass driver PDR | Phase 1 | 2026‑10‑21 | 2027‑04‑04 | 24 | Launch & Orbital Integration |\n",
        "| 8.2.1 | Pathfinder AIT/launch prep | Phase 1 | 2028‑01‑01 | 2028‑07‑15 | 28 | Verification & Pilots |\n",
        "| **Phase 2 Activities** |\n",
        "| 3.1.1 | Site selection & resource mapping | Phase 2 | 2028‑10‑01 | 2029‑03‑31 | 26 | ISRU & Manufacturing |\n",
        "| 3.2.1 | Mining + processing line v1 | Phase 2 | 2029‑04‑01 | 2030‑03‑31 | 52 | ISRU & Manufacturing |\n",
        "| 3.4.1 | Additive mfg cell v1 | Phase 2 | 2029‑07‑01 | 2030‑03‑31 | 39 | ISRU & Manufacturing |\n",
        "| 4.1.1 | Assembly cell design & build | Phase 2 | 2030‑04‑01 | 2030‑12‑31 | 39 | Replication & Assembly |\n",
        "| 4.2.1 | Replication controls implementation | Phase 2 | 2030‑10‑01 | 2031‑06‑30 | 39 | Replication & Assembly |\n",
        "| **Phase 3 Activities** |\n",
        "| 6.1.1 | Panel fab line (cluster 1) | Phase 3 | 2031‑10‑01 | 2032‑07‑07 | 40 | Collector/Reflector Panels |\n",
        "| 5.1.2 | Mass driver prototype build & fire | Phase 3 | 2032‑01‑01 | 2032‑10‑08 | 40 | Launch & Orbital Integration |\n",
        "| 6.2.1 | PV/reflector integration testing | Phase 3 | 2032‑07‑08 | 2033‑06‑30 | 51 | Collector/Reflector Panels |\n",
        "| 7.1.1 | Space transmitter development | Phase 3 | 2033‑01‑01 | 2034‑06‑30 | 78 | Power Beaming & Earth Interface |\n",
        "| 5.2.1 | Panel packaging & launch system | Phase 3 | 2034‑01‑01 | 2035‑06‑30 | 78 | Launch & Orbital Integration |\n",
        "| 7.2.1 | Rectenna pilot site development | Phase 3 | 2035‑01‑01 | 2036‑06‑30 | 78 | Power Beaming & Earth Interface |\n",
        "| 8.3.1 | Power‑beaming pilot | Phase 3 | 2036‑06‑01 | 2036‑11‑30 | 26 | Verification & Pilots |\n",
        "| **Phase 4 Activities** |\n",
        "| 9.1.1 | Multi‑cluster fab ramp | Phase 4 | 2037‑10‑01 | 2040‑10‑01 | 156 | Deployment & Scale‑Up |\n",
        "| 9.2.1 | Multi‑driver network online | Phase 4 | 2039‑07‑01 | 2041‑01‑15 | 80 | Deployment & Scale‑Up |\n",
        "| 9.1.2 | Industrial scale‑up operations | Phase 4 | 2041‑01‑16 | 2043‑06‑30 | 128 | Deployment & Scale‑Up |\n",
        "| **Phase 5 Activities** |\n",
        "| 9.3.1 | Optimization & maintenance at scale | Phase 5 | 2043‑10‑01 | 2045‑09‑30 | 104 | Deployment & Scale‑Up |\n"
      ]
    },
    {
      "cell_type": "code",
      "execution_count": 3,
      "metadata": {},
      "outputs": [
        {
          "data": {
            "application/vnd.plotly.v1+json": {
              "config": {
                "plotlyServerURL": "https://plot.ly"
              },
              "data": [
                {
                  "base": [
                    "2025-10-01T00:00:00.000000000"
                  ],
                  "hovertemplate": "Phase=%{y}<br>Start=%{base}<br>Finish=%{x}<extra></extra>",
                  "legendgroup": "Phase 1 — Seed Deployment",
                  "marker": {
                    "color": "#636efa",
                    "pattern": {
                      "shape": ""
                    }
                  },
                  "name": "Phase 1 — Seed Deployment",
                  "opacity": 0.35,
                  "orientation": "h",
                  "showlegend": true,
                  "textposition": "auto",
                  "type": "bar",
                  "x": [
                    94608000000
                  ],
                  "xaxis": "x",
                  "y": [
                    "Phase 1 — Seed Deployment"
                  ],
                  "yaxis": "y"
                },
                {
                  "base": [
                    "2028-10-01T00:00:00.000000000"
                  ],
                  "hovertemplate": "Phase=%{y}<br>Start=%{base}<br>Finish=%{x}<extra></extra>",
                  "legendgroup": "Phase 2 — Bootstrap Replication",
                  "marker": {
                    "color": "#EF553B",
                    "pattern": {
                      "shape": ""
                    }
                  },
                  "name": "Phase 2 — Bootstrap Replication",
                  "opacity": 0.35,
                  "orientation": "h",
                  "showlegend": true,
                  "textposition": "auto",
                  "type": "bar",
                  "x": [
                    94521600000
                  ],
                  "xaxis": "x",
                  "y": [
                    "Phase 2 — Bootstrap Replication"
                  ],
                  "yaxis": "y"
                },
                {
                  "base": [
                    "2031-10-01T00:00:00.000000000"
                  ],
                  "hovertemplate": "Phase=%{y}<br>Start=%{base}<br>Finish=%{x}<extra></extra>",
                  "legendgroup": "Phase 3 — Infrastructure Expansion",
                  "marker": {
                    "color": "#00cc96",
                    "pattern": {
                      "shape": ""
                    }
                  },
                  "name": "Phase 3 — Infrastructure Expansion",
                  "opacity": 0.35,
                  "orientation": "h",
                  "showlegend": true,
                  "textposition": "auto",
                  "type": "bar",
                  "x": [
                    189302400000
                  ],
                  "xaxis": "x",
                  "y": [
                    "Phase 3 — Infrastructure Expansion"
                  ],
                  "yaxis": "y"
                },
                {
                  "base": [
                    "2037-10-01T00:00:00.000000000"
                  ],
                  "hovertemplate": "Phase=%{y}<br>Start=%{base}<br>Finish=%{x}<extra></extra>",
                  "legendgroup": "Phase 4 — Dyson Swarm Assembly",
                  "marker": {
                    "color": "#ab63fa",
                    "pattern": {
                      "shape": ""
                    }
                  },
                  "name": "Phase 4 — Dyson Swarm Assembly",
                  "opacity": 0.35,
                  "orientation": "h",
                  "showlegend": true,
                  "textposition": "auto",
                  "type": "bar",
                  "x": [
                    189216000000
                  ],
                  "xaxis": "x",
                  "y": [
                    "Phase 4 — Dyson Swarm Assembly"
                  ],
                  "yaxis": "y"
                },
                {
                  "base": [
                    "2043-10-01T00:00:00.000000000"
                  ],
                  "hovertemplate": "Phase=%{y}<br>Start=%{base}<br>Finish=%{x}<extra></extra>",
                  "legendgroup": "Phase 5 — Full Operational Capability",
                  "marker": {
                    "color": "#FFA15A",
                    "pattern": {
                      "shape": ""
                    }
                  },
                  "name": "Phase 5 — Full Operational Capability",
                  "opacity": 0.35,
                  "orientation": "h",
                  "showlegend": true,
                  "textposition": "auto",
                  "type": "bar",
                  "x": [
                    63072000000
                  ],
                  "xaxis": "x",
                  "y": [
                    "Phase 5 — Full Operational Capability"
                  ],
                  "yaxis": "y"
                }
              ],
              "layout": {
                "barmode": "overlay",
                "legend": {
                  "title": {
                    "text": "Phase"
                  },
                  "tracegroupgap": 0
                },
                "template": {
                  "data": {
                    "bar": [
                      {
                        "error_x": {
                          "color": "#2a3f5f"
                        },
                        "error_y": {
                          "color": "#2a3f5f"
                        },
                        "marker": {
                          "line": {
                            "color": "#E5ECF6",
                            "width": 0.5
                          },
                          "pattern": {
                            "fillmode": "overlay",
                            "size": 10,
                            "solidity": 0.2
                          }
                        },
                        "type": "bar"
                      }
                    ],
                    "barpolar": [
                      {
                        "marker": {
                          "line": {
                            "color": "#E5ECF6",
                            "width": 0.5
                          },
                          "pattern": {
                            "fillmode": "overlay",
                            "size": 10,
                            "solidity": 0.2
                          }
                        },
                        "type": "barpolar"
                      }
                    ],
                    "carpet": [
                      {
                        "aaxis": {
                          "endlinecolor": "#2a3f5f",
                          "gridcolor": "white",
                          "linecolor": "white",
                          "minorgridcolor": "white",
                          "startlinecolor": "#2a3f5f"
                        },
                        "baxis": {
                          "endlinecolor": "#2a3f5f",
                          "gridcolor": "white",
                          "linecolor": "white",
                          "minorgridcolor": "white",
                          "startlinecolor": "#2a3f5f"
                        },
                        "type": "carpet"
                      }
                    ],
                    "choropleth": [
                      {
                        "colorbar": {
                          "outlinewidth": 0,
                          "ticks": ""
                        },
                        "type": "choropleth"
                      }
                    ],
                    "contour": [
                      {
                        "colorbar": {
                          "outlinewidth": 0,
                          "ticks": ""
                        },
                        "colorscale": [
                          [
                            0,
                            "#0d0887"
                          ],
                          [
                            0.1111111111111111,
                            "#46039f"
                          ],
                          [
                            0.2222222222222222,
                            "#7201a8"
                          ],
                          [
                            0.3333333333333333,
                            "#9c179e"
                          ],
                          [
                            0.4444444444444444,
                            "#bd3786"
                          ],
                          [
                            0.5555555555555556,
                            "#d8576b"
                          ],
                          [
                            0.6666666666666666,
                            "#ed7953"
                          ],
                          [
                            0.7777777777777778,
                            "#fb9f3a"
                          ],
                          [
                            0.8888888888888888,
                            "#fdca26"
                          ],
                          [
                            1,
                            "#f0f921"
                          ]
                        ],
                        "type": "contour"
                      }
                    ],
                    "contourcarpet": [
                      {
                        "colorbar": {
                          "outlinewidth": 0,
                          "ticks": ""
                        },
                        "type": "contourcarpet"
                      }
                    ],
                    "heatmap": [
                      {
                        "colorbar": {
                          "outlinewidth": 0,
                          "ticks": ""
                        },
                        "colorscale": [
                          [
                            0,
                            "#0d0887"
                          ],
                          [
                            0.1111111111111111,
                            "#46039f"
                          ],
                          [
                            0.2222222222222222,
                            "#7201a8"
                          ],
                          [
                            0.3333333333333333,
                            "#9c179e"
                          ],
                          [
                            0.4444444444444444,
                            "#bd3786"
                          ],
                          [
                            0.5555555555555556,
                            "#d8576b"
                          ],
                          [
                            0.6666666666666666,
                            "#ed7953"
                          ],
                          [
                            0.7777777777777778,
                            "#fb9f3a"
                          ],
                          [
                            0.8888888888888888,
                            "#fdca26"
                          ],
                          [
                            1,
                            "#f0f921"
                          ]
                        ],
                        "type": "heatmap"
                      }
                    ],
                    "histogram": [
                      {
                        "marker": {
                          "pattern": {
                            "fillmode": "overlay",
                            "size": 10,
                            "solidity": 0.2
                          }
                        },
                        "type": "histogram"
                      }
                    ],
                    "histogram2d": [
                      {
                        "colorbar": {
                          "outlinewidth": 0,
                          "ticks": ""
                        },
                        "colorscale": [
                          [
                            0,
                            "#0d0887"
                          ],
                          [
                            0.1111111111111111,
                            "#46039f"
                          ],
                          [
                            0.2222222222222222,
                            "#7201a8"
                          ],
                          [
                            0.3333333333333333,
                            "#9c179e"
                          ],
                          [
                            0.4444444444444444,
                            "#bd3786"
                          ],
                          [
                            0.5555555555555556,
                            "#d8576b"
                          ],
                          [
                            0.6666666666666666,
                            "#ed7953"
                          ],
                          [
                            0.7777777777777778,
                            "#fb9f3a"
                          ],
                          [
                            0.8888888888888888,
                            "#fdca26"
                          ],
                          [
                            1,
                            "#f0f921"
                          ]
                        ],
                        "type": "histogram2d"
                      }
                    ],
                    "histogram2dcontour": [
                      {
                        "colorbar": {
                          "outlinewidth": 0,
                          "ticks": ""
                        },
                        "colorscale": [
                          [
                            0,
                            "#0d0887"
                          ],
                          [
                            0.1111111111111111,
                            "#46039f"
                          ],
                          [
                            0.2222222222222222,
                            "#7201a8"
                          ],
                          [
                            0.3333333333333333,
                            "#9c179e"
                          ],
                          [
                            0.4444444444444444,
                            "#bd3786"
                          ],
                          [
                            0.5555555555555556,
                            "#d8576b"
                          ],
                          [
                            0.6666666666666666,
                            "#ed7953"
                          ],
                          [
                            0.7777777777777778,
                            "#fb9f3a"
                          ],
                          [
                            0.8888888888888888,
                            "#fdca26"
                          ],
                          [
                            1,
                            "#f0f921"
                          ]
                        ],
                        "type": "histogram2dcontour"
                      }
                    ],
                    "mesh3d": [
                      {
                        "colorbar": {
                          "outlinewidth": 0,
                          "ticks": ""
                        },
                        "type": "mesh3d"
                      }
                    ],
                    "parcoords": [
                      {
                        "line": {
                          "colorbar": {
                            "outlinewidth": 0,
                            "ticks": ""
                          }
                        },
                        "type": "parcoords"
                      }
                    ],
                    "pie": [
                      {
                        "automargin": true,
                        "type": "pie"
                      }
                    ],
                    "scatter": [
                      {
                        "fillpattern": {
                          "fillmode": "overlay",
                          "size": 10,
                          "solidity": 0.2
                        },
                        "type": "scatter"
                      }
                    ],
                    "scatter3d": [
                      {
                        "line": {
                          "colorbar": {
                            "outlinewidth": 0,
                            "ticks": ""
                          }
                        },
                        "marker": {
                          "colorbar": {
                            "outlinewidth": 0,
                            "ticks": ""
                          }
                        },
                        "type": "scatter3d"
                      }
                    ],
                    "scattercarpet": [
                      {
                        "marker": {
                          "colorbar": {
                            "outlinewidth": 0,
                            "ticks": ""
                          }
                        },
                        "type": "scattercarpet"
                      }
                    ],
                    "scattergeo": [
                      {
                        "marker": {
                          "colorbar": {
                            "outlinewidth": 0,
                            "ticks": ""
                          }
                        },
                        "type": "scattergeo"
                      }
                    ],
                    "scattergl": [
                      {
                        "marker": {
                          "colorbar": {
                            "outlinewidth": 0,
                            "ticks": ""
                          }
                        },
                        "type": "scattergl"
                      }
                    ],
                    "scattermap": [
                      {
                        "marker": {
                          "colorbar": {
                            "outlinewidth": 0,
                            "ticks": ""
                          }
                        },
                        "type": "scattermap"
                      }
                    ],
                    "scattermapbox": [
                      {
                        "marker": {
                          "colorbar": {
                            "outlinewidth": 0,
                            "ticks": ""
                          }
                        },
                        "type": "scattermapbox"
                      }
                    ],
                    "scatterpolar": [
                      {
                        "marker": {
                          "colorbar": {
                            "outlinewidth": 0,
                            "ticks": ""
                          }
                        },
                        "type": "scatterpolar"
                      }
                    ],
                    "scatterpolargl": [
                      {
                        "marker": {
                          "colorbar": {
                            "outlinewidth": 0,
                            "ticks": ""
                          }
                        },
                        "type": "scatterpolargl"
                      }
                    ],
                    "scatterternary": [
                      {
                        "marker": {
                          "colorbar": {
                            "outlinewidth": 0,
                            "ticks": ""
                          }
                        },
                        "type": "scatterternary"
                      }
                    ],
                    "surface": [
                      {
                        "colorbar": {
                          "outlinewidth": 0,
                          "ticks": ""
                        },
                        "colorscale": [
                          [
                            0,
                            "#0d0887"
                          ],
                          [
                            0.1111111111111111,
                            "#46039f"
                          ],
                          [
                            0.2222222222222222,
                            "#7201a8"
                          ],
                          [
                            0.3333333333333333,
                            "#9c179e"
                          ],
                          [
                            0.4444444444444444,
                            "#bd3786"
                          ],
                          [
                            0.5555555555555556,
                            "#d8576b"
                          ],
                          [
                            0.6666666666666666,
                            "#ed7953"
                          ],
                          [
                            0.7777777777777778,
                            "#fb9f3a"
                          ],
                          [
                            0.8888888888888888,
                            "#fdca26"
                          ],
                          [
                            1,
                            "#f0f921"
                          ]
                        ],
                        "type": "surface"
                      }
                    ],
                    "table": [
                      {
                        "cells": {
                          "fill": {
                            "color": "#EBF0F8"
                          },
                          "line": {
                            "color": "white"
                          }
                        },
                        "header": {
                          "fill": {
                            "color": "#C8D4E3"
                          },
                          "line": {
                            "color": "white"
                          }
                        },
                        "type": "table"
                      }
                    ]
                  },
                  "layout": {
                    "annotationdefaults": {
                      "arrowcolor": "#2a3f5f",
                      "arrowhead": 0,
                      "arrowwidth": 1
                    },
                    "autotypenumbers": "strict",
                    "coloraxis": {
                      "colorbar": {
                        "outlinewidth": 0,
                        "ticks": ""
                      }
                    },
                    "colorscale": {
                      "diverging": [
                        [
                          0,
                          "#8e0152"
                        ],
                        [
                          0.1,
                          "#c51b7d"
                        ],
                        [
                          0.2,
                          "#de77ae"
                        ],
                        [
                          0.3,
                          "#f1b6da"
                        ],
                        [
                          0.4,
                          "#fde0ef"
                        ],
                        [
                          0.5,
                          "#f7f7f7"
                        ],
                        [
                          0.6,
                          "#e6f5d0"
                        ],
                        [
                          0.7,
                          "#b8e186"
                        ],
                        [
                          0.8,
                          "#7fbc41"
                        ],
                        [
                          0.9,
                          "#4d9221"
                        ],
                        [
                          1,
                          "#276419"
                        ]
                      ],
                      "sequential": [
                        [
                          0,
                          "#0d0887"
                        ],
                        [
                          0.1111111111111111,
                          "#46039f"
                        ],
                        [
                          0.2222222222222222,
                          "#7201a8"
                        ],
                        [
                          0.3333333333333333,
                          "#9c179e"
                        ],
                        [
                          0.4444444444444444,
                          "#bd3786"
                        ],
                        [
                          0.5555555555555556,
                          "#d8576b"
                        ],
                        [
                          0.6666666666666666,
                          "#ed7953"
                        ],
                        [
                          0.7777777777777778,
                          "#fb9f3a"
                        ],
                        [
                          0.8888888888888888,
                          "#fdca26"
                        ],
                        [
                          1,
                          "#f0f921"
                        ]
                      ],
                      "sequentialminus": [
                        [
                          0,
                          "#0d0887"
                        ],
                        [
                          0.1111111111111111,
                          "#46039f"
                        ],
                        [
                          0.2222222222222222,
                          "#7201a8"
                        ],
                        [
                          0.3333333333333333,
                          "#9c179e"
                        ],
                        [
                          0.4444444444444444,
                          "#bd3786"
                        ],
                        [
                          0.5555555555555556,
                          "#d8576b"
                        ],
                        [
                          0.6666666666666666,
                          "#ed7953"
                        ],
                        [
                          0.7777777777777778,
                          "#fb9f3a"
                        ],
                        [
                          0.8888888888888888,
                          "#fdca26"
                        ],
                        [
                          1,
                          "#f0f921"
                        ]
                      ]
                    },
                    "colorway": [
                      "#636efa",
                      "#EF553B",
                      "#00cc96",
                      "#ab63fa",
                      "#FFA15A",
                      "#19d3f3",
                      "#FF6692",
                      "#B6E880",
                      "#FF97FF",
                      "#FECB52"
                    ],
                    "font": {
                      "color": "#2a3f5f"
                    },
                    "geo": {
                      "bgcolor": "white",
                      "lakecolor": "white",
                      "landcolor": "#E5ECF6",
                      "showlakes": true,
                      "showland": true,
                      "subunitcolor": "white"
                    },
                    "hoverlabel": {
                      "align": "left"
                    },
                    "hovermode": "closest",
                    "mapbox": {
                      "style": "light"
                    },
                    "paper_bgcolor": "white",
                    "plot_bgcolor": "#E5ECF6",
                    "polar": {
                      "angularaxis": {
                        "gridcolor": "white",
                        "linecolor": "white",
                        "ticks": ""
                      },
                      "bgcolor": "#E5ECF6",
                      "radialaxis": {
                        "gridcolor": "white",
                        "linecolor": "white",
                        "ticks": ""
                      }
                    },
                    "scene": {
                      "xaxis": {
                        "backgroundcolor": "#E5ECF6",
                        "gridcolor": "white",
                        "gridwidth": 2,
                        "linecolor": "white",
                        "showbackground": true,
                        "ticks": "",
                        "zerolinecolor": "white"
                      },
                      "yaxis": {
                        "backgroundcolor": "#E5ECF6",
                        "gridcolor": "white",
                        "gridwidth": 2,
                        "linecolor": "white",
                        "showbackground": true,
                        "ticks": "",
                        "zerolinecolor": "white"
                      },
                      "zaxis": {
                        "backgroundcolor": "#E5ECF6",
                        "gridcolor": "white",
                        "gridwidth": 2,
                        "linecolor": "white",
                        "showbackground": true,
                        "ticks": "",
                        "zerolinecolor": "white"
                      }
                    },
                    "shapedefaults": {
                      "line": {
                        "color": "#2a3f5f"
                      }
                    },
                    "ternary": {
                      "aaxis": {
                        "gridcolor": "white",
                        "linecolor": "white",
                        "ticks": ""
                      },
                      "baxis": {
                        "gridcolor": "white",
                        "linecolor": "white",
                        "ticks": ""
                      },
                      "bgcolor": "#E5ECF6",
                      "caxis": {
                        "gridcolor": "white",
                        "linecolor": "white",
                        "ticks": ""
                      }
                    },
                    "title": {
                      "x": 0.05
                    },
                    "xaxis": {
                      "automargin": true,
                      "gridcolor": "white",
                      "linecolor": "white",
                      "ticks": "",
                      "title": {
                        "standoff": 15
                      },
                      "zerolinecolor": "white",
                      "zerolinewidth": 2
                    },
                    "yaxis": {
                      "automargin": true,
                      "gridcolor": "white",
                      "linecolor": "white",
                      "ticks": "",
                      "title": {
                        "standoff": 15
                      },
                      "zerolinecolor": "white",
                      "zerolinewidth": 2
                    }
                  }
                },
                "title": {
                  "text": "Phase Roadmap (Gantt)"
                },
                "xaxis": {
                  "anchor": "y",
                  "domain": [
                    0,
                    1
                  ],
                  "type": "date"
                },
                "yaxis": {
                  "anchor": "x",
                  "autorange": "reversed",
                  "categoryarray": [
                    "Phase 5 — Full Operational Capability",
                    "Phase 4 — Dyson Swarm Assembly",
                    "Phase 3 — Infrastructure Expansion",
                    "Phase 2 — Bootstrap Replication",
                    "Phase 1 — Seed Deployment"
                  ],
                  "categoryorder": "array",
                  "domain": [
                    0,
                    1
                  ],
                  "title": {
                    "text": "Phase"
                  }
                }
              }
            }
          },
          "metadata": {},
          "output_type": "display_data"
        },
        {
          "data": {
            "application/vnd.plotly.v1+json": {
              "config": {
                "plotlyServerURL": "https://plot.ly"
              },
              "data": [
                {
                  "base": [
                    "2025-10-01T00:00:00.000000000"
                  ],
                  "hovertemplate": "Task=Program setup & ethics governance<br>Start=%{base}<br>Finish=%{x}<br>Phase=%{y}<extra></extra>",
                  "legendgroup": "Program setup & ethics governance",
                  "marker": {
                    "color": "#636efa",
                    "pattern": {
                      "shape": ""
                    }
                  },
                  "name": "Program setup & ethics governance",
                  "orientation": "h",
                  "showlegend": true,
                  "textposition": "auto",
                  "type": "bar",
                  "x": [
                    4838400000
                  ],
                  "xaxis": "x",
                  "y": [
                    "Phase 1 — Seed Deployment"
                  ],
                  "yaxis": "y"
                },
                {
                  "base": [
                    "2025-11-27T00:00:00.000000000"
                  ],
                  "hovertemplate": "Task=Seed Gen-0 mechatronics<br>Start=%{base}<br>Finish=%{x}<br>Phase=%{y}<extra></extra>",
                  "legendgroup": "Seed Gen-0 mechatronics",
                  "marker": {
                    "color": "#EF553B",
                    "pattern": {
                      "shape": ""
                    }
                  },
                  "name": "Seed Gen-0 mechatronics",
                  "orientation": "h",
                  "showlegend": true,
                  "textposition": "auto",
                  "type": "bar",
                  "x": [
                    11923200000
                  ],
                  "xaxis": "x",
                  "y": [
                    "Phase 1 — Seed Deployment"
                  ],
                  "yaxis": "y"
                },
                {
                  "base": [
                    "2026-01-15T00:00:00.000000000"
                  ],
                  "hovertemplate": "Task=Autonomy v1 (payload-centric)<br>Start=%{base}<br>Finish=%{x}<br>Phase=%{y}<extra></extra>",
                  "legendgroup": "Autonomy v1 (payload-centric)",
                  "marker": {
                    "color": "#00cc96",
                    "pattern": {
                      "shape": ""
                    }
                  },
                  "name": "Autonomy v1 (payload-centric)",
                  "orientation": "h",
                  "showlegend": true,
                  "textposition": "auto",
                  "type": "bar",
                  "x": [
                    14342400000
                  ],
                  "xaxis": "x",
                  "y": [
                    "Phase 1 — Seed Deployment"
                  ],
                  "yaxis": "y"
                },
                {
                  "base": [
                    "2026-07-01T00:00:00.000000000"
                  ],
                  "hovertemplate": "Task=Env. testing (seed units)<br>Start=%{base}<br>Finish=%{x}<br>Phase=%{y}<extra></extra>",
                  "legendgroup": "Env. testing (seed units)",
                  "marker": {
                    "color": "#ab63fa",
                    "pattern": {
                      "shape": ""
                    }
                  },
                  "name": "Env. testing (seed units)",
                  "orientation": "h",
                  "showlegend": true,
                  "textposition": "auto",
                  "type": "bar",
                  "x": [
                    9590400000
                  ],
                  "xaxis": "x",
                  "y": [
                    "Phase 1 — Seed Deployment"
                  ],
                  "yaxis": "y"
                },
                {
                  "base": [
                    "2026-10-21T00:00:00.000000000"
                  ],
                  "hovertemplate": "Task=Ground replication dry-run<br>Start=%{base}<br>Finish=%{x}<br>Phase=%{y}<extra></extra>",
                  "legendgroup": "Ground replication dry-run",
                  "marker": {
                    "color": "#FFA15A",
                    "pattern": {
                      "shape": ""
                    }
                  },
                  "name": "Ground replication dry-run",
                  "orientation": "h",
                  "showlegend": true,
                  "textposition": "auto",
                  "type": "bar",
                  "x": [
                    9504000000
                  ],
                  "xaxis": "x",
                  "y": [
                    "Phase 1 — Seed Deployment"
                  ],
                  "yaxis": "y"
                },
                {
                  "base": [
                    "2026-10-21T00:00:00.000000000"
                  ],
                  "hovertemplate": "Task=Mass driver PDR<br>Start=%{base}<br>Finish=%{x}<br>Phase=%{y}<extra></extra>",
                  "legendgroup": "Mass driver PDR",
                  "marker": {
                    "color": "#19d3f3",
                    "pattern": {
                      "shape": ""
                    }
                  },
                  "name": "Mass driver PDR",
                  "orientation": "h",
                  "showlegend": true,
                  "textposition": "auto",
                  "type": "bar",
                  "x": [
                    14256000000
                  ],
                  "xaxis": "x",
                  "y": [
                    "Phase 1 — Seed Deployment"
                  ],
                  "yaxis": "y"
                },
                {
                  "base": [
                    "2028-01-01T00:00:00.000000000"
                  ],
                  "hovertemplate": "Task=Pathfinder AIT/launch prep<br>Start=%{base}<br>Finish=%{x}<br>Phase=%{y}<extra></extra>",
                  "legendgroup": "Pathfinder AIT/launch prep",
                  "marker": {
                    "color": "#FF6692",
                    "pattern": {
                      "shape": ""
                    }
                  },
                  "name": "Pathfinder AIT/launch prep",
                  "orientation": "h",
                  "showlegend": true,
                  "textposition": "auto",
                  "type": "bar",
                  "x": [
                    16934400000
                  ],
                  "xaxis": "x",
                  "y": [
                    "Phase 1 — Seed Deployment"
                  ],
                  "yaxis": "y"
                },
                {
                  "base": [
                    "2028-10-01T00:00:00.000000000"
                  ],
                  "hovertemplate": "Task=Site selection & resource mapping<br>Start=%{base}<br>Finish=%{x}<br>Phase=%{y}<extra></extra>",
                  "legendgroup": "Site selection & resource mapping",
                  "marker": {
                    "color": "#B6E880",
                    "pattern": {
                      "shape": ""
                    }
                  },
                  "name": "Site selection & resource mapping",
                  "orientation": "h",
                  "showlegend": true,
                  "textposition": "auto",
                  "type": "bar",
                  "x": [
                    15638400000
                  ],
                  "xaxis": "x",
                  "y": [
                    "Phase 2 — Bootstrap Replication"
                  ],
                  "yaxis": "y"
                },
                {
                  "base": [
                    "2029-04-01T00:00:00.000000000"
                  ],
                  "hovertemplate": "Task=Mining + processing line v1<br>Start=%{base}<br>Finish=%{x}<br>Phase=%{y}<extra></extra>",
                  "legendgroup": "Mining + processing line v1",
                  "marker": {
                    "color": "#FF97FF",
                    "pattern": {
                      "shape": ""
                    }
                  },
                  "name": "Mining + processing line v1",
                  "orientation": "h",
                  "showlegend": true,
                  "textposition": "auto",
                  "type": "bar",
                  "x": [
                    31449600000
                  ],
                  "xaxis": "x",
                  "y": [
                    "Phase 2 — Bootstrap Replication"
                  ],
                  "yaxis": "y"
                },
                {
                  "base": [
                    "2029-07-01T00:00:00.000000000"
                  ],
                  "hovertemplate": "Task=Additive mfg cell v1<br>Start=%{base}<br>Finish=%{x}<br>Phase=%{y}<extra></extra>",
                  "legendgroup": "Additive mfg cell v1",
                  "marker": {
                    "color": "#FECB52",
                    "pattern": {
                      "shape": ""
                    }
                  },
                  "name": "Additive mfg cell v1",
                  "orientation": "h",
                  "showlegend": true,
                  "textposition": "auto",
                  "type": "bar",
                  "x": [
                    23587200000
                  ],
                  "xaxis": "x",
                  "y": [
                    "Phase 2 — Bootstrap Replication"
                  ],
                  "yaxis": "y"
                },
                {
                  "base": [
                    "2031-10-01T00:00:00.000000000"
                  ],
                  "hovertemplate": "Task=Panel fab line (cluster 1)<br>Start=%{base}<br>Finish=%{x}<br>Phase=%{y}<extra></extra>",
                  "legendgroup": "Panel fab line (cluster 1)",
                  "marker": {
                    "color": "#636efa",
                    "pattern": {
                      "shape": ""
                    }
                  },
                  "name": "Panel fab line (cluster 1)",
                  "orientation": "h",
                  "showlegend": true,
                  "textposition": "auto",
                  "type": "bar",
                  "x": [
                    24192000000
                  ],
                  "xaxis": "x",
                  "y": [
                    "Phase 3 — Infrastructure Expansion"
                  ],
                  "yaxis": "y"
                },
                {
                  "base": [
                    "2032-01-01T00:00:00.000000000"
                  ],
                  "hovertemplate": "Task=Mass driver prototype build & fire<br>Start=%{base}<br>Finish=%{x}<br>Phase=%{y}<extra></extra>",
                  "legendgroup": "Mass driver prototype build & fire",
                  "marker": {
                    "color": "#EF553B",
                    "pattern": {
                      "shape": ""
                    }
                  },
                  "name": "Mass driver prototype build & fire",
                  "orientation": "h",
                  "showlegend": true,
                  "textposition": "auto",
                  "type": "bar",
                  "x": [
                    24278400000
                  ],
                  "xaxis": "x",
                  "y": [
                    "Phase 3 — Infrastructure Expansion"
                  ],
                  "yaxis": "y"
                },
                {
                  "base": [
                    "2036-06-01T00:00:00.000000000"
                  ],
                  "hovertemplate": "Task=Power-beaming pilot<br>Start=%{base}<br>Finish=%{x}<br>Phase=%{y}<extra></extra>",
                  "legendgroup": "Power-beaming pilot",
                  "marker": {
                    "color": "#00cc96",
                    "pattern": {
                      "shape": ""
                    }
                  },
                  "name": "Power-beaming pilot",
                  "orientation": "h",
                  "showlegend": true,
                  "textposition": "auto",
                  "type": "bar",
                  "x": [
                    15724800000
                  ],
                  "xaxis": "x",
                  "y": [
                    "Phase 3 — Infrastructure Expansion"
                  ],
                  "yaxis": "y"
                },
                {
                  "base": [
                    "2037-10-01T00:00:00.000000000"
                  ],
                  "hovertemplate": "Task=Multi-cluster fab ramp<br>Start=%{base}<br>Finish=%{x}<br>Phase=%{y}<extra></extra>",
                  "legendgroup": "Multi-cluster fab ramp",
                  "marker": {
                    "color": "#ab63fa",
                    "pattern": {
                      "shape": ""
                    }
                  },
                  "name": "Multi-cluster fab ramp",
                  "orientation": "h",
                  "showlegend": true,
                  "textposition": "auto",
                  "type": "bar",
                  "x": [
                    94694400000
                  ],
                  "xaxis": "x",
                  "y": [
                    "Phase 4 — Dyson Swarm Assembly"
                  ],
                  "yaxis": "y"
                },
                {
                  "base": [
                    "2039-07-01T00:00:00.000000000"
                  ],
                  "hovertemplate": "Task=Multi-driver network online<br>Start=%{base}<br>Finish=%{x}<br>Phase=%{y}<extra></extra>",
                  "legendgroup": "Multi-driver network online",
                  "marker": {
                    "color": "#FFA15A",
                    "pattern": {
                      "shape": ""
                    }
                  },
                  "name": "Multi-driver network online",
                  "orientation": "h",
                  "showlegend": true,
                  "textposition": "auto",
                  "type": "bar",
                  "x": [
                    48729600000
                  ],
                  "xaxis": "x",
                  "y": [
                    "Phase 4 — Dyson Swarm Assembly"
                  ],
                  "yaxis": "y"
                },
                {
                  "base": [
                    "2043-10-01T00:00:00.000000000"
                  ],
                  "hovertemplate": "Task=Optimization & maintenance at scale<br>Start=%{base}<br>Finish=%{x}<br>Phase=%{y}<extra></extra>",
                  "legendgroup": "Optimization & maintenance at scale",
                  "marker": {
                    "color": "#19d3f3",
                    "pattern": {
                      "shape": ""
                    }
                  },
                  "name": "Optimization & maintenance at scale",
                  "orientation": "h",
                  "showlegend": true,
                  "textposition": "auto",
                  "type": "bar",
                  "x": [
                    63072000000
                  ],
                  "xaxis": "x",
                  "y": [
                    "Phase 5 — Full Operational Capability"
                  ],
                  "yaxis": "y"
                }
              ],
              "layout": {
                "barmode": "overlay",
                "legend": {
                  "title": {
                    "text": "Task"
                  },
                  "tracegroupgap": 0
                },
                "template": {
                  "data": {
                    "bar": [
                      {
                        "error_x": {
                          "color": "#2a3f5f"
                        },
                        "error_y": {
                          "color": "#2a3f5f"
                        },
                        "marker": {
                          "line": {
                            "color": "#E5ECF6",
                            "width": 0.5
                          },
                          "pattern": {
                            "fillmode": "overlay",
                            "size": 10,
                            "solidity": 0.2
                          }
                        },
                        "type": "bar"
                      }
                    ],
                    "barpolar": [
                      {
                        "marker": {
                          "line": {
                            "color": "#E5ECF6",
                            "width": 0.5
                          },
                          "pattern": {
                            "fillmode": "overlay",
                            "size": 10,
                            "solidity": 0.2
                          }
                        },
                        "type": "barpolar"
                      }
                    ],
                    "carpet": [
                      {
                        "aaxis": {
                          "endlinecolor": "#2a3f5f",
                          "gridcolor": "white",
                          "linecolor": "white",
                          "minorgridcolor": "white",
                          "startlinecolor": "#2a3f5f"
                        },
                        "baxis": {
                          "endlinecolor": "#2a3f5f",
                          "gridcolor": "white",
                          "linecolor": "white",
                          "minorgridcolor": "white",
                          "startlinecolor": "#2a3f5f"
                        },
                        "type": "carpet"
                      }
                    ],
                    "choropleth": [
                      {
                        "colorbar": {
                          "outlinewidth": 0,
                          "ticks": ""
                        },
                        "type": "choropleth"
                      }
                    ],
                    "contour": [
                      {
                        "colorbar": {
                          "outlinewidth": 0,
                          "ticks": ""
                        },
                        "colorscale": [
                          [
                            0,
                            "#0d0887"
                          ],
                          [
                            0.1111111111111111,
                            "#46039f"
                          ],
                          [
                            0.2222222222222222,
                            "#7201a8"
                          ],
                          [
                            0.3333333333333333,
                            "#9c179e"
                          ],
                          [
                            0.4444444444444444,
                            "#bd3786"
                          ],
                          [
                            0.5555555555555556,
                            "#d8576b"
                          ],
                          [
                            0.6666666666666666,
                            "#ed7953"
                          ],
                          [
                            0.7777777777777778,
                            "#fb9f3a"
                          ],
                          [
                            0.8888888888888888,
                            "#fdca26"
                          ],
                          [
                            1,
                            "#f0f921"
                          ]
                        ],
                        "type": "contour"
                      }
                    ],
                    "contourcarpet": [
                      {
                        "colorbar": {
                          "outlinewidth": 0,
                          "ticks": ""
                        },
                        "type": "contourcarpet"
                      }
                    ],
                    "heatmap": [
                      {
                        "colorbar": {
                          "outlinewidth": 0,
                          "ticks": ""
                        },
                        "colorscale": [
                          [
                            0,
                            "#0d0887"
                          ],
                          [
                            0.1111111111111111,
                            "#46039f"
                          ],
                          [
                            0.2222222222222222,
                            "#7201a8"
                          ],
                          [
                            0.3333333333333333,
                            "#9c179e"
                          ],
                          [
                            0.4444444444444444,
                            "#bd3786"
                          ],
                          [
                            0.5555555555555556,
                            "#d8576b"
                          ],
                          [
                            0.6666666666666666,
                            "#ed7953"
                          ],
                          [
                            0.7777777777777778,
                            "#fb9f3a"
                          ],
                          [
                            0.8888888888888888,
                            "#fdca26"
                          ],
                          [
                            1,
                            "#f0f921"
                          ]
                        ],
                        "type": "heatmap"
                      }
                    ],
                    "histogram": [
                      {
                        "marker": {
                          "pattern": {
                            "fillmode": "overlay",
                            "size": 10,
                            "solidity": 0.2
                          }
                        },
                        "type": "histogram"
                      }
                    ],
                    "histogram2d": [
                      {
                        "colorbar": {
                          "outlinewidth": 0,
                          "ticks": ""
                        },
                        "colorscale": [
                          [
                            0,
                            "#0d0887"
                          ],
                          [
                            0.1111111111111111,
                            "#46039f"
                          ],
                          [
                            0.2222222222222222,
                            "#7201a8"
                          ],
                          [
                            0.3333333333333333,
                            "#9c179e"
                          ],
                          [
                            0.4444444444444444,
                            "#bd3786"
                          ],
                          [
                            0.5555555555555556,
                            "#d8576b"
                          ],
                          [
                            0.6666666666666666,
                            "#ed7953"
                          ],
                          [
                            0.7777777777777778,
                            "#fb9f3a"
                          ],
                          [
                            0.8888888888888888,
                            "#fdca26"
                          ],
                          [
                            1,
                            "#f0f921"
                          ]
                        ],
                        "type": "histogram2d"
                      }
                    ],
                    "histogram2dcontour": [
                      {
                        "colorbar": {
                          "outlinewidth": 0,
                          "ticks": ""
                        },
                        "colorscale": [
                          [
                            0,
                            "#0d0887"
                          ],
                          [
                            0.1111111111111111,
                            "#46039f"
                          ],
                          [
                            0.2222222222222222,
                            "#7201a8"
                          ],
                          [
                            0.3333333333333333,
                            "#9c179e"
                          ],
                          [
                            0.4444444444444444,
                            "#bd3786"
                          ],
                          [
                            0.5555555555555556,
                            "#d8576b"
                          ],
                          [
                            0.6666666666666666,
                            "#ed7953"
                          ],
                          [
                            0.7777777777777778,
                            "#fb9f3a"
                          ],
                          [
                            0.8888888888888888,
                            "#fdca26"
                          ],
                          [
                            1,
                            "#f0f921"
                          ]
                        ],
                        "type": "histogram2dcontour"
                      }
                    ],
                    "mesh3d": [
                      {
                        "colorbar": {
                          "outlinewidth": 0,
                          "ticks": ""
                        },
                        "type": "mesh3d"
                      }
                    ],
                    "parcoords": [
                      {
                        "line": {
                          "colorbar": {
                            "outlinewidth": 0,
                            "ticks": ""
                          }
                        },
                        "type": "parcoords"
                      }
                    ],
                    "pie": [
                      {
                        "automargin": true,
                        "type": "pie"
                      }
                    ],
                    "scatter": [
                      {
                        "fillpattern": {
                          "fillmode": "overlay",
                          "size": 10,
                          "solidity": 0.2
                        },
                        "type": "scatter"
                      }
                    ],
                    "scatter3d": [
                      {
                        "line": {
                          "colorbar": {
                            "outlinewidth": 0,
                            "ticks": ""
                          }
                        },
                        "marker": {
                          "colorbar": {
                            "outlinewidth": 0,
                            "ticks": ""
                          }
                        },
                        "type": "scatter3d"
                      }
                    ],
                    "scattercarpet": [
                      {
                        "marker": {
                          "colorbar": {
                            "outlinewidth": 0,
                            "ticks": ""
                          }
                        },
                        "type": "scattercarpet"
                      }
                    ],
                    "scattergeo": [
                      {
                        "marker": {
                          "colorbar": {
                            "outlinewidth": 0,
                            "ticks": ""
                          }
                        },
                        "type": "scattergeo"
                      }
                    ],
                    "scattergl": [
                      {
                        "marker": {
                          "colorbar": {
                            "outlinewidth": 0,
                            "ticks": ""
                          }
                        },
                        "type": "scattergl"
                      }
                    ],
                    "scattermap": [
                      {
                        "marker": {
                          "colorbar": {
                            "outlinewidth": 0,
                            "ticks": ""
                          }
                        },
                        "type": "scattermap"
                      }
                    ],
                    "scattermapbox": [
                      {
                        "marker": {
                          "colorbar": {
                            "outlinewidth": 0,
                            "ticks": ""
                          }
                        },
                        "type": "scattermapbox"
                      }
                    ],
                    "scatterpolar": [
                      {
                        "marker": {
                          "colorbar": {
                            "outlinewidth": 0,
                            "ticks": ""
                          }
                        },
                        "type": "scatterpolar"
                      }
                    ],
                    "scatterpolargl": [
                      {
                        "marker": {
                          "colorbar": {
                            "outlinewidth": 0,
                            "ticks": ""
                          }
                        },
                        "type": "scatterpolargl"
                      }
                    ],
                    "scatterternary": [
                      {
                        "marker": {
                          "colorbar": {
                            "outlinewidth": 0,
                            "ticks": ""
                          }
                        },
                        "type": "scatterternary"
                      }
                    ],
                    "surface": [
                      {
                        "colorbar": {
                          "outlinewidth": 0,
                          "ticks": ""
                        },
                        "colorscale": [
                          [
                            0,
                            "#0d0887"
                          ],
                          [
                            0.1111111111111111,
                            "#46039f"
                          ],
                          [
                            0.2222222222222222,
                            "#7201a8"
                          ],
                          [
                            0.3333333333333333,
                            "#9c179e"
                          ],
                          [
                            0.4444444444444444,
                            "#bd3786"
                          ],
                          [
                            0.5555555555555556,
                            "#d8576b"
                          ],
                          [
                            0.6666666666666666,
                            "#ed7953"
                          ],
                          [
                            0.7777777777777778,
                            "#fb9f3a"
                          ],
                          [
                            0.8888888888888888,
                            "#fdca26"
                          ],
                          [
                            1,
                            "#f0f921"
                          ]
                        ],
                        "type": "surface"
                      }
                    ],
                    "table": [
                      {
                        "cells": {
                          "fill": {
                            "color": "#EBF0F8"
                          },
                          "line": {
                            "color": "white"
                          }
                        },
                        "header": {
                          "fill": {
                            "color": "#C8D4E3"
                          },
                          "line": {
                            "color": "white"
                          }
                        },
                        "type": "table"
                      }
                    ]
                  },
                  "layout": {
                    "annotationdefaults": {
                      "arrowcolor": "#2a3f5f",
                      "arrowhead": 0,
                      "arrowwidth": 1
                    },
                    "autotypenumbers": "strict",
                    "coloraxis": {
                      "colorbar": {
                        "outlinewidth": 0,
                        "ticks": ""
                      }
                    },
                    "colorscale": {
                      "diverging": [
                        [
                          0,
                          "#8e0152"
                        ],
                        [
                          0.1,
                          "#c51b7d"
                        ],
                        [
                          0.2,
                          "#de77ae"
                        ],
                        [
                          0.3,
                          "#f1b6da"
                        ],
                        [
                          0.4,
                          "#fde0ef"
                        ],
                        [
                          0.5,
                          "#f7f7f7"
                        ],
                        [
                          0.6,
                          "#e6f5d0"
                        ],
                        [
                          0.7,
                          "#b8e186"
                        ],
                        [
                          0.8,
                          "#7fbc41"
                        ],
                        [
                          0.9,
                          "#4d9221"
                        ],
                        [
                          1,
                          "#276419"
                        ]
                      ],
                      "sequential": [
                        [
                          0,
                          "#0d0887"
                        ],
                        [
                          0.1111111111111111,
                          "#46039f"
                        ],
                        [
                          0.2222222222222222,
                          "#7201a8"
                        ],
                        [
                          0.3333333333333333,
                          "#9c179e"
                        ],
                        [
                          0.4444444444444444,
                          "#bd3786"
                        ],
                        [
                          0.5555555555555556,
                          "#d8576b"
                        ],
                        [
                          0.6666666666666666,
                          "#ed7953"
                        ],
                        [
                          0.7777777777777778,
                          "#fb9f3a"
                        ],
                        [
                          0.8888888888888888,
                          "#fdca26"
                        ],
                        [
                          1,
                          "#f0f921"
                        ]
                      ],
                      "sequentialminus": [
                        [
                          0,
                          "#0d0887"
                        ],
                        [
                          0.1111111111111111,
                          "#46039f"
                        ],
                        [
                          0.2222222222222222,
                          "#7201a8"
                        ],
                        [
                          0.3333333333333333,
                          "#9c179e"
                        ],
                        [
                          0.4444444444444444,
                          "#bd3786"
                        ],
                        [
                          0.5555555555555556,
                          "#d8576b"
                        ],
                        [
                          0.6666666666666666,
                          "#ed7953"
                        ],
                        [
                          0.7777777777777778,
                          "#fb9f3a"
                        ],
                        [
                          0.8888888888888888,
                          "#fdca26"
                        ],
                        [
                          1,
                          "#f0f921"
                        ]
                      ]
                    },
                    "colorway": [
                      "#636efa",
                      "#EF553B",
                      "#00cc96",
                      "#ab63fa",
                      "#FFA15A",
                      "#19d3f3",
                      "#FF6692",
                      "#B6E880",
                      "#FF97FF",
                      "#FECB52"
                    ],
                    "font": {
                      "color": "#2a3f5f"
                    },
                    "geo": {
                      "bgcolor": "white",
                      "lakecolor": "white",
                      "landcolor": "#E5ECF6",
                      "showlakes": true,
                      "showland": true,
                      "subunitcolor": "white"
                    },
                    "hoverlabel": {
                      "align": "left"
                    },
                    "hovermode": "closest",
                    "mapbox": {
                      "style": "light"
                    },
                    "paper_bgcolor": "white",
                    "plot_bgcolor": "#E5ECF6",
                    "polar": {
                      "angularaxis": {
                        "gridcolor": "white",
                        "linecolor": "white",
                        "ticks": ""
                      },
                      "bgcolor": "#E5ECF6",
                      "radialaxis": {
                        "gridcolor": "white",
                        "linecolor": "white",
                        "ticks": ""
                      }
                    },
                    "scene": {
                      "xaxis": {
                        "backgroundcolor": "#E5ECF6",
                        "gridcolor": "white",
                        "gridwidth": 2,
                        "linecolor": "white",
                        "showbackground": true,
                        "ticks": "",
                        "zerolinecolor": "white"
                      },
                      "yaxis": {
                        "backgroundcolor": "#E5ECF6",
                        "gridcolor": "white",
                        "gridwidth": 2,
                        "linecolor": "white",
                        "showbackground": true,
                        "ticks": "",
                        "zerolinecolor": "white"
                      },
                      "zaxis": {
                        "backgroundcolor": "#E5ECF6",
                        "gridcolor": "white",
                        "gridwidth": 2,
                        "linecolor": "white",
                        "showbackground": true,
                        "ticks": "",
                        "zerolinecolor": "white"
                      }
                    },
                    "shapedefaults": {
                      "line": {
                        "color": "#2a3f5f"
                      }
                    },
                    "ternary": {
                      "aaxis": {
                        "gridcolor": "white",
                        "linecolor": "white",
                        "ticks": ""
                      },
                      "baxis": {
                        "gridcolor": "white",
                        "linecolor": "white",
                        "ticks": ""
                      },
                      "bgcolor": "#E5ECF6",
                      "caxis": {
                        "gridcolor": "white",
                        "linecolor": "white",
                        "ticks": ""
                      }
                    },
                    "title": {
                      "x": 0.05
                    },
                    "xaxis": {
                      "automargin": true,
                      "gridcolor": "white",
                      "linecolor": "white",
                      "ticks": "",
                      "title": {
                        "standoff": 15
                      },
                      "zerolinecolor": "white",
                      "zerolinewidth": 2
                    },
                    "yaxis": {
                      "automargin": true,
                      "gridcolor": "white",
                      "linecolor": "white",
                      "ticks": "",
                      "title": {
                        "standoff": 15
                      },
                      "zerolinecolor": "white",
                      "zerolinewidth": 2
                    }
                  }
                },
                "title": {
                  "text": "Key Activities by Phase"
                },
                "xaxis": {
                  "anchor": "y",
                  "domain": [
                    0,
                    1
                  ],
                  "type": "date"
                },
                "yaxis": {
                  "anchor": "x",
                  "autorange": "reversed",
                  "domain": [
                    0,
                    1
                  ],
                  "title": {
                    "text": "Phase"
                  }
                }
              }
            }
          },
          "metadata": {},
          "output_type": "display_data"
        }
      ],
      "source": [
        "\n",
        "# %%\n",
        "# Timeline: phases (background) + key activities (overlay)\n",
        "import pandas as pd\n",
        "import plotly.express as px\n",
        "\n",
        "phase_rows = [\n",
        "    {\"Phase\":\"Phase 1 — Seed Deployment\",\"Start\":\"2025-10-01\",\"Finish\":\"2028-09-30\"},\n",
        "    {\"Phase\":\"Phase 2 — Bootstrap Replication\",\"Start\":\"2028-10-01\",\"Finish\":\"2031-09-30\"},\n",
        "    {\"Phase\":\"Phase 3 — Infrastructure Expansion\",\"Start\":\"2031-10-01\",\"Finish\":\"2037-09-30\"},\n",
        "    {\"Phase\":\"Phase 4 — Dyson Swarm Assembly\",\"Start\":\"2037-10-01\",\"Finish\":\"2043-09-30\"},\n",
        "    {\"Phase\":\"Phase 5 — Full Operational Capability\",\"Start\":\"2043-10-01\",\"Finish\":\"2045-09-30\"},\n",
        "]\n",
        "activity_rows = [\n",
        "    {\"Task\":\"Program setup & ethics governance\",\"Phase\":\"Phase 1 — Seed Deployment\",\"Start\":\"2025-10-01\",\"Finish\":\"2025-11-26\"},\n",
        "    {\"Task\":\"Seed Gen-0 mechatronics\",\"Phase\":\"Phase 1 — Seed Deployment\",\"Start\":\"2025-11-27\",\"Finish\":\"2026-04-14\"},\n",
        "    {\"Task\":\"Autonomy v1 (payload-centric)\",\"Phase\":\"Phase 1 — Seed Deployment\",\"Start\":\"2026-01-15\",\"Finish\":\"2026-06-30\"},\n",
        "    {\"Task\":\"Env. testing (seed units)\",\"Phase\":\"Phase 1 — Seed Deployment\",\"Start\":\"2026-07-01\",\"Finish\":\"2026-10-20\"},\n",
        "    {\"Task\":\"Ground replication dry-run\",\"Phase\":\"Phase 1 — Seed Deployment\",\"Start\":\"2026-10-21\",\"Finish\":\"2027-02-08\"},\n",
        "    {\"Task\":\"Mass driver PDR\",\"Phase\":\"Phase 1 — Seed Deployment\",\"Start\":\"2026-10-21\",\"Finish\":\"2027-04-04\"},\n",
        "    {\"Task\":\"Pathfinder AIT/launch prep\",\"Phase\":\"Phase 1 — Seed Deployment\",\"Start\":\"2028-01-01\",\"Finish\":\"2028-07-15\"},\n",
        "\n",
        "    {\"Task\":\"Site selection & resource mapping\",\"Phase\":\"Phase 2 — Bootstrap Replication\",\"Start\":\"2028-10-01\",\"Finish\":\"2029-03-31\"},\n",
        "    {\"Task\":\"Mining + processing line v1\",\"Phase\":\"Phase 2 — Bootstrap Replication\",\"Start\":\"2029-04-01\",\"Finish\":\"2030-03-31\"},\n",
        "    {\"Task\":\"Additive mfg cell v1\",\"Phase\":\"Phase 2 — Bootstrap Replication\",\"Start\":\"2029-07-01\",\"Finish\":\"2030-03-31\"},\n",
        "\n",
        "    {\"Task\":\"Panel fab line (cluster 1)\",\"Phase\":\"Phase 3 — Infrastructure Expansion\",\"Start\":\"2031-10-01\",\"Finish\":\"2032-07-07\"},\n",
        "    {\"Task\":\"Mass driver prototype build & fire\",\"Phase\":\"Phase 3 — Infrastructure Expansion\",\"Start\":\"2032-01-01\",\"Finish\":\"2032-10-08\"},\n",
        "    {\"Task\":\"Power-beaming pilot\",\"Phase\":\"Phase 3 — Infrastructure Expansion\",\"Start\":\"2036-06-01\",\"Finish\":\"2036-11-30\"},\n",
        "\n",
        "    {\"Task\":\"Multi-cluster fab ramp\",\"Phase\":\"Phase 4 — Dyson Swarm Assembly\",\"Start\":\"2037-10-01\",\"Finish\":\"2040-10-01\"},\n",
        "    {\"Task\":\"Multi-driver network online\",\"Phase\":\"Phase 4 — Dyson Swarm Assembly\",\"Start\":\"2039-07-01\",\"Finish\":\"2041-01-15\"},\n",
        "\n",
        "    {\"Task\":\"Optimization & maintenance at scale\",\"Phase\":\"Phase 5 — Full Operational Capability\",\"Start\":\"2043-10-01\",\"Finish\":\"2045-09-30\"},\n",
        "]\n",
        "\n",
        "ph_df = pd.DataFrame(phase_rows)\n",
        "ph_df['Start'] = pd.to_datetime(ph_df['Start'])\n",
        "ph_df['Finish'] = pd.to_datetime(ph_df['Finish'])\n",
        "act_df = pd.DataFrame(activity_rows)\n",
        "act_df['Start'] = pd.to_datetime(act_df['Start'])\n",
        "act_df['Finish'] = pd.to_datetime(act_df['Finish'])\n",
        "\n",
        "fig_ph = px.timeline(ph_df, x_start=\"Start\", x_end=\"Finish\", y=\"Phase\", color=\"Phase\", title=\"Phase Roadmap (Gantt)\")\n",
        "fig_ph.update_yaxes(autorange=\"reversed\")\n",
        "fig_ph.update_traces(opacity=0.35)\n",
        "fig_ph.show()\n",
        "\n",
        "fig_act = px.timeline(act_df, x_start=\"Start\", x_end=\"Finish\", y=\"Phase\", color=\"Task\", title=\"Key Activities by Phase\")\n",
        "fig_act.update_yaxes(autorange=\"reversed\")\n",
        "fig_act.show()\n"
      ]
    }
  ],
  "metadata": {
    "kernelspec": {
      "display_name": "Python 3",
      "language": "python",
      "name": "python3"
    },
    "language_info": {
      "codemirror_mode": {
        "name": "ipython",
        "version": 3
      },
      "file_extension": ".py",
      "mimetype": "text/x-python",
      "name": "python",
      "nbconvert_exporter": "python",
      "pygments_lexer": "ipython3",
      "version": "3.12.1"
    }
  },
  "nbformat": 4,
  "nbformat_minor": 5
}
